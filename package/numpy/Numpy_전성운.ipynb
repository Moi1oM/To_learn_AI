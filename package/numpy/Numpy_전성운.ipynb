{
  "nbformat": 4,
  "nbformat_minor": 0,
  "metadata": {
    "colab": {
      "name": "Numpy_전성운",
      "provenance": [],
      "collapsed_sections": [],
      "toc_visible": true
    },
    "kernelspec": {
      "name": "python3",
      "display_name": "Python 3"
    }
  },
  "cells": [
    {
      "cell_type": "markdown",
      "metadata": {
        "id": "J_FfQuu2Tb30"
      },
      "source": [
        "# NumPy 한번에 제대로 배우기"
      ]
    },
    {
      "cell_type": "markdown",
      "metadata": {
        "id": "Zgrrh9T2vs8u"
      },
      "source": [
        "\n",
        "\n",
        "---\n",
        "\n"
      ]
    },
    {
      "cell_type": "markdown",
      "metadata": {
        "id": "oR5hNBH-Retd"
      },
      "source": [
        "## NumPy 특징\n",
        "\n",
        "* Numerical Python의 약자\n",
        "* 고성능 과학 계산용 패키지로 강력한 N차원 배열 객체\n",
        "* 범용적 데이터 처리에 사용 가능한 다차원 컨테이너\n",
        "* 정교한 브로드캐스팅(broadcasting) 기능\n",
        "* 파이썬의 자료형 list와 비슷하지만, 더 빠르고 메모리를 효율적으로 관리\n",
        "* 반복문 없이 데이터 배열에 대한 처리를 지원하여 빠르고 편리\n",
        "* 데이터 과학 도구에 대한 생태계의 핵심을 이루고 있음"
      ]
    },
    {
      "cell_type": "code",
      "metadata": {
        "id": "R9klTdhLQ564",
        "colab": {
          "base_uri": "https://localhost:8080/",
          "height": 35
        },
        "outputId": "7d58a827-190d-4727-dd8c-d5a1dc521819"
      },
      "source": [
        "import numpy as np\n",
        "np.__version__"
      ],
      "execution_count": 1,
      "outputs": [
        {
          "output_type": "execute_result",
          "data": {
            "text/plain": [
              "'1.21.5'"
            ],
            "application/vnd.google.colaboratory.intrinsic+json": {
              "type": "string"
            }
          },
          "metadata": {},
          "execution_count": 1
        }
      ]
    },
    {
      "cell_type": "markdown",
      "metadata": {
        "id": "2hSWC5ptGyWP"
      },
      "source": [
        "\n",
        "\n",
        "---\n",
        "\n"
      ]
    },
    {
      "cell_type": "markdown",
      "metadata": {
        "id": "1kgkJZFlVUqk"
      },
      "source": [
        "## 배열 생성"
      ]
    },
    {
      "cell_type": "markdown",
      "metadata": {
        "id": "5eQ4sAkMbzm0"
      },
      "source": [
        "### 리스트로 배열 만들기\n"
      ]
    },
    {
      "cell_type": "code",
      "metadata": {
        "id": "Mtod2jcPWVvV",
        "colab": {
          "base_uri": "https://localhost:8080/"
        },
        "outputId": "011bff82-8d05-47e8-f12d-a9cbda2a687f"
      },
      "source": [
        "a1=np.array([1,2,3,4,5])\n",
        "print(a1)\n",
        "print(type(a1))\n",
        "print(a1.shape)\n",
        "print(a1[0],a1[3],a1[4])\n",
        "a1[0]=4\n",
        "a1[1]=5\n",
        "a1[2]=6\n",
        "print(a1)"
      ],
      "execution_count": null,
      "outputs": [
        {
          "output_type": "stream",
          "name": "stdout",
          "text": [
            "[1 2 3 4 5]\n",
            "<class 'numpy.ndarray'>\n",
            "(5,)\n",
            "1 4 5\n",
            "[4 5 6 4 5]\n"
          ]
        }
      ]
    },
    {
      "cell_type": "code",
      "source": [
        "a2=np.array([[1,2,3],[4,5,6],[7,8,9]])\n",
        "print(a2)\n",
        "print(a2.shape)\n",
        "print(a2[0,0],a2[1,2])"
      ],
      "metadata": {
        "colab": {
          "base_uri": "https://localhost:8080/"
        },
        "id": "3Cx7gDhoZVLf",
        "outputId": "cdd7ae36-add8-4ac8-cc04-ab8869268acf"
      },
      "execution_count": null,
      "outputs": [
        {
          "output_type": "stream",
          "name": "stdout",
          "text": [
            "[[1 2 3]\n",
            " [4 5 6]\n",
            " [7 8 9]]\n",
            "(3, 3)\n",
            "1 6\n"
          ]
        }
      ]
    },
    {
      "cell_type": "code",
      "metadata": {
        "id": "vp9tkHH8esXT",
        "colab": {
          "base_uri": "https://localhost:8080/"
        },
        "outputId": "a99586a6-b6f2-4a35-e5fb-69a5cf95b643"
      },
      "source": [
        "a3=np.array([[[1,2,3],[4,5,6],[7,8,9]],[[1,2,3],[4,5,6],[7,8,9]],[[1,2,3],[4,5,6],[7,8,9]]])\n",
        "print(a3)\n",
        "print(a3.shape)"
      ],
      "execution_count": null,
      "outputs": [
        {
          "output_type": "stream",
          "name": "stdout",
          "text": [
            "[[[1 2 3]\n",
            "  [4 5 6]\n",
            "  [7 8 9]]\n",
            "\n",
            " [[1 2 3]\n",
            "  [4 5 6]\n",
            "  [7 8 9]]\n",
            "\n",
            " [[1 2 3]\n",
            "  [4 5 6]\n",
            "  [7 8 9]]]\n",
            "(3, 3, 3)\n"
          ]
        }
      ]
    },
    {
      "cell_type": "markdown",
      "metadata": {
        "id": "PNkKtw4CoSDB"
      },
      "source": [
        "### 배열 생성 및 초기화"
      ]
    },
    {
      "cell_type": "markdown",
      "metadata": {
        "id": "mJVii5p_VfgM"
      },
      "source": [
        "* `zeros()`: 모든 요소를 0으로 초기화"
      ]
    },
    {
      "cell_type": "code",
      "metadata": {
        "id": "W_SF1tVoVTf1",
        "colab": {
          "base_uri": "https://localhost:8080/"
        },
        "outputId": "8309fbba-6d42-4f54-8f4d-39e572134065"
      },
      "source": [
        "np.zeros(10)"
      ],
      "execution_count": null,
      "outputs": [
        {
          "output_type": "execute_result",
          "data": {
            "text/plain": [
              "array([0., 0., 0., 0., 0., 0., 0., 0., 0., 0.])"
            ]
          },
          "metadata": {},
          "execution_count": 13
        }
      ]
    },
    {
      "cell_type": "markdown",
      "metadata": {
        "id": "LjYFQrODVqhX"
      },
      "source": [
        "* `ones()`: 모든 요소를 1로 초기화"
      ]
    },
    {
      "cell_type": "code",
      "metadata": {
        "id": "MURoqsMsVeUw",
        "colab": {
          "base_uri": "https://localhost:8080/"
        },
        "outputId": "4848a40f-8897-41d4-f626-ffc33ad46dea"
      },
      "source": [
        "np.ones((3,3))"
      ],
      "execution_count": null,
      "outputs": [
        {
          "output_type": "execute_result",
          "data": {
            "text/plain": [
              "array([[1., 1., 1.],\n",
              "       [1., 1., 1.],\n",
              "       [1., 1., 1.]])"
            ]
          },
          "metadata": {},
          "execution_count": 16
        }
      ]
    },
    {
      "cell_type": "markdown",
      "metadata": {
        "id": "jnmm3Cj-cGtx"
      },
      "source": [
        "* `full()`: 모든 요소를 지정한 값으로 초기화"
      ]
    },
    {
      "cell_type": "code",
      "metadata": {
        "id": "oscabrdcV7Ny",
        "colab": {
          "base_uri": "https://localhost:8080/"
        },
        "outputId": "29694b31-6bd7-4beb-e272-8e4494736b38"
      },
      "source": [
        "np.full((3,3),1.23)"
      ],
      "execution_count": null,
      "outputs": [
        {
          "output_type": "execute_result",
          "data": {
            "text/plain": [
              "array([[1.23, 1.23, 1.23],\n",
              "       [1.23, 1.23, 1.23],\n",
              "       [1.23, 1.23, 1.23]])"
            ]
          },
          "metadata": {},
          "execution_count": 17
        }
      ]
    },
    {
      "cell_type": "markdown",
      "metadata": {
        "id": "0SRI4jbmlIKc"
      },
      "source": [
        "* `eye()`: 단위행렬(identity matrix) 생성\n",
        "  + 주대각선의 원소가 모두 1이고 나머지 원소는 모두 0인 정사각 행렬"
      ]
    },
    {
      "cell_type": "code",
      "metadata": {
        "id": "VceBVLLjk9o5",
        "colab": {
          "base_uri": "https://localhost:8080/"
        },
        "outputId": "8f88c4ae-61d1-46c5-9035-30ca1b630865"
      },
      "source": [
        "np.eye(3)"
      ],
      "execution_count": null,
      "outputs": [
        {
          "output_type": "execute_result",
          "data": {
            "text/plain": [
              "array([[1., 0., 0.],\n",
              "       [0., 1., 0.],\n",
              "       [0., 0., 1.]])"
            ]
          },
          "metadata": {},
          "execution_count": 18
        }
      ]
    },
    {
      "cell_type": "markdown",
      "metadata": {
        "id": "7CCH1ZMT5R02"
      },
      "source": [
        "* `tri()`: 삼각행렬 생성"
      ]
    },
    {
      "cell_type": "code",
      "metadata": {
        "id": "mLe2Bhj05VYu",
        "colab": {
          "base_uri": "https://localhost:8080/"
        },
        "outputId": "d09e3489-d734-43eb-9ff0-8ce60285e82a"
      },
      "source": [
        "np.tri(3)"
      ],
      "execution_count": null,
      "outputs": [
        {
          "output_type": "execute_result",
          "data": {
            "text/plain": [
              "array([[1., 0., 0.],\n",
              "       [1., 1., 0.],\n",
              "       [1., 1., 1.]])"
            ]
          },
          "metadata": {},
          "execution_count": 19
        }
      ]
    },
    {
      "cell_type": "markdown",
      "metadata": {
        "id": "ObZRA4HclZlO"
      },
      "source": [
        "* `empty()`: 초기화되지 않은 배열 생성\n",
        "  + 초기화가 없어서 배열 생성비용 저렴하고 빠름\n",
        "  + 초기화되지 않아서 기존 메모리 위치에 존재하는 값이 있음"
      ]
    },
    {
      "cell_type": "code",
      "metadata": {
        "id": "I3SoFgiglAkz",
        "colab": {
          "base_uri": "https://localhost:8080/"
        },
        "outputId": "29bbec09-6d77-43cf-a615-a29b7fa45735"
      },
      "source": [
        "np.empty(10)"
      ],
      "execution_count": null,
      "outputs": [
        {
          "output_type": "execute_result",
          "data": {
            "text/plain": [
              "array([1., 1., 1., 1., 1., 1., 1., 1., 1., 1.])"
            ]
          },
          "metadata": {},
          "execution_count": 20
        }
      ]
    },
    {
      "cell_type": "markdown",
      "metadata": {
        "id": "p3uSl1Ccmi5_"
      },
      "source": [
        "* `_like()`: 지정된 배열과 shape가 같은 행렬 생성\n",
        "  + `np.zeros_like()`\n",
        "  + `np.ones_like()`\n",
        "  + `np.full_like()`\n",
        "  + `np.empty_like()`"
      ]
    },
    {
      "cell_type": "code",
      "metadata": {
        "id": "Ad5RskRRlZLs",
        "colab": {
          "base_uri": "https://localhost:8080/"
        },
        "outputId": "0a644840-e186-4336-8b7b-ffae47be87b0"
      },
      "source": [
        "print(a1)\n",
        "np.zeros_like(a1)"
      ],
      "execution_count": null,
      "outputs": [
        {
          "output_type": "stream",
          "name": "stdout",
          "text": [
            "[4 5 6 4 5]\n"
          ]
        },
        {
          "output_type": "execute_result",
          "data": {
            "text/plain": [
              "array([0, 0, 0, 0, 0])"
            ]
          },
          "metadata": {},
          "execution_count": 21
        }
      ]
    },
    {
      "cell_type": "code",
      "metadata": {
        "id": "KChUHsG003Nf",
        "colab": {
          "base_uri": "https://localhost:8080/"
        },
        "outputId": "a8d6b5ea-f774-4511-8d35-7249583d847e"
      },
      "source": [
        "print(a2)\n",
        "np.ones_like(a2)"
      ],
      "execution_count": null,
      "outputs": [
        {
          "output_type": "stream",
          "name": "stdout",
          "text": [
            "[[1 2 3]\n",
            " [4 5 6]\n",
            " [7 8 9]]\n"
          ]
        },
        {
          "output_type": "execute_result",
          "data": {
            "text/plain": [
              "array([[1, 1, 1],\n",
              "       [1, 1, 1],\n",
              "       [1, 1, 1]])"
            ]
          },
          "metadata": {},
          "execution_count": 23
        }
      ]
    },
    {
      "cell_type": "code",
      "metadata": {
        "id": "PUnDz6b305Gg",
        "colab": {
          "base_uri": "https://localhost:8080/"
        },
        "outputId": "099adb0a-e5c7-4182-e784-5eefaf6de688"
      },
      "source": [
        "print(a3)\n",
        "np.full_like(a3,10)"
      ],
      "execution_count": null,
      "outputs": [
        {
          "output_type": "stream",
          "name": "stdout",
          "text": [
            "[[[1 2 3]\n",
            "  [4 5 6]\n",
            "  [7 8 9]]\n",
            "\n",
            " [[1 2 3]\n",
            "  [4 5 6]\n",
            "  [7 8 9]]\n",
            "\n",
            " [[1 2 3]\n",
            "  [4 5 6]\n",
            "  [7 8 9]]]\n"
          ]
        },
        {
          "output_type": "execute_result",
          "data": {
            "text/plain": [
              "array([[[10, 10, 10],\n",
              "        [10, 10, 10],\n",
              "        [10, 10, 10]],\n",
              "\n",
              "       [[10, 10, 10],\n",
              "        [10, 10, 10],\n",
              "        [10, 10, 10]],\n",
              "\n",
              "       [[10, 10, 10],\n",
              "        [10, 10, 10],\n",
              "        [10, 10, 10]]])"
            ]
          },
          "metadata": {},
          "execution_count": 24
        }
      ]
    },
    {
      "cell_type": "markdown",
      "metadata": {
        "id": "apoksGJNrn1z"
      },
      "source": [
        "### 생성한 값으로 배열 생성"
      ]
    },
    {
      "cell_type": "markdown",
      "metadata": {
        "id": "H3nmLct8cnV8"
      },
      "source": [
        "* `arange()`: 정수 범위로 배열 생성"
      ]
    },
    {
      "cell_type": "code",
      "metadata": {
        "id": "mANy4WY4cDKa",
        "colab": {
          "base_uri": "https://localhost:8080/"
        },
        "outputId": "17116bec-e510-4b58-cfa1-3ef7596dad7b"
      },
      "source": [
        "np.arange(0,30,2)"
      ],
      "execution_count": null,
      "outputs": [
        {
          "output_type": "execute_result",
          "data": {
            "text/plain": [
              "array([ 0,  2,  4,  6,  8, 10, 12, 14, 16, 18, 20, 22, 24, 26, 28])"
            ]
          },
          "metadata": {},
          "execution_count": 25
        }
      ]
    },
    {
      "cell_type": "markdown",
      "metadata": {
        "id": "s5kET1e6itlo"
      },
      "source": [
        "* `linspace()`: 범위 내에서 균등 간격의 배열 생성"
      ]
    },
    {
      "cell_type": "code",
      "metadata": {
        "id": "u4q9gI7Zcltz",
        "colab": {
          "base_uri": "https://localhost:8080/"
        },
        "outputId": "6e6e988d-9873-4dfe-fbb4-ab209a0e3805"
      },
      "source": [
        "np.linspace(0,1,5)"
      ],
      "execution_count": null,
      "outputs": [
        {
          "output_type": "execute_result",
          "data": {
            "text/plain": [
              "array([0.  , 0.25, 0.5 , 0.75, 1.  ])"
            ]
          },
          "metadata": {},
          "execution_count": 27
        }
      ]
    },
    {
      "cell_type": "markdown",
      "metadata": {
        "id": "Eq26d7T3nnAH"
      },
      "source": [
        "* `logspace()`: 범위 내에서 균등간격으로 로그 스케일로 배열 생성"
      ]
    },
    {
      "cell_type": "code",
      "metadata": {
        "id": "-O29WBVEnyXX",
        "colab": {
          "base_uri": "https://localhost:8080/"
        },
        "outputId": "bc60c71d-f007-4ce7-cffa-b14da2fd80ed"
      },
      "source": [
        "np.logspace(0.1,1,20)"
      ],
      "execution_count": null,
      "outputs": [
        {
          "output_type": "execute_result",
          "data": {
            "text/plain": [
              "array([ 1.25892541,  1.40400425,  1.565802  ,  1.74624535,  1.94748304,\n",
              "        2.1719114 ,  2.42220294,  2.70133812,  3.0126409 ,  3.35981829,\n",
              "        3.74700446,  4.17881006,  4.66037703,  5.19743987,  5.79639395,\n",
              "        6.46437163,  7.2093272 ,  8.04013161,  8.9666781 , 10.        ])"
            ]
          },
          "metadata": {},
          "execution_count": 28
        }
      ]
    },
    {
      "cell_type": "markdown",
      "metadata": {
        "id": "6_88s4_Jr7fO"
      },
      "source": [
        "### 랜덤값으로 배열 생성\n"
      ]
    },
    {
      "cell_type": "markdown",
      "metadata": {
        "id": "CoK1cVUkjNMg"
      },
      "source": [
        "* `random.random()`: 랜덤한 수의 배열 생성"
      ]
    },
    {
      "cell_type": "code",
      "metadata": {
        "id": "qJwccKEnjMze",
        "colab": {
          "base_uri": "https://localhost:8080/"
        },
        "outputId": "5597abf7-a20a-48ee-96d3-1f0ac84bae68"
      },
      "source": [
        "np.random.random((3,3))"
      ],
      "execution_count": null,
      "outputs": [
        {
          "output_type": "execute_result",
          "data": {
            "text/plain": [
              "array([[0.85356873, 0.77592499, 0.74518875],\n",
              "       [0.54611007, 0.55648872, 0.73848783],\n",
              "       [0.49452391, 0.67754177, 0.28986212]])"
            ]
          },
          "metadata": {},
          "execution_count": 29
        }
      ]
    },
    {
      "cell_type": "markdown",
      "metadata": {
        "id": "BYsAVwA1kvDI"
      },
      "source": [
        "* `random.randint()`: 일정 구간의 랜덤 정수의 배열 생성"
      ]
    },
    {
      "cell_type": "code",
      "metadata": {
        "id": "oR-UszZ_jqfQ",
        "colab": {
          "base_uri": "https://localhost:8080/"
        },
        "outputId": "bbfd78c0-c2ad-4275-d186-acb832811ea5"
      },
      "source": [
        "np.random.randint(0,10,(3,3))"
      ],
      "execution_count": null,
      "outputs": [
        {
          "output_type": "execute_result",
          "data": {
            "text/plain": [
              "array([[8, 3, 9],\n",
              "       [0, 9, 2],\n",
              "       [3, 8, 2]])"
            ]
          },
          "metadata": {},
          "execution_count": 31
        }
      ]
    },
    {
      "cell_type": "markdown",
      "metadata": {
        "id": "2r557WHsjrL3"
      },
      "source": [
        "* `random.normal()`: 정규분포(normal distribution)를 고려한 랜덤한 수의 배열 생성\n",
        "* 평균=0, 표준편차=1, 3 x 3 배열"
      ]
    },
    {
      "cell_type": "code",
      "metadata": {
        "id": "Oan3bSpHi2Wq",
        "colab": {
          "base_uri": "https://localhost:8080/"
        },
        "outputId": "b07dd900-707a-4cb5-8026-b0bad529b74d"
      },
      "source": [
        "np.random.normal(0,1,size=(3,3))"
      ],
      "execution_count": null,
      "outputs": [
        {
          "output_type": "execute_result",
          "data": {
            "text/plain": [
              "array([[-1.55909445, -0.85847797, -0.51227578],\n",
              "       [ 0.61607243,  0.29021837,  0.17601178],\n",
              "       [-0.08811191,  0.25986409, -0.09425353]])"
            ]
          },
          "metadata": {},
          "execution_count": 32
        }
      ]
    },
    {
      "cell_type": "markdown",
      "metadata": {
        "id": "fPO-D1rHsrFw"
      },
      "source": [
        "* `random.rand()`: 균등분포(uniform distribution)를 고려한 랜덤한 수의 배열 생성"
      ]
    },
    {
      "cell_type": "code",
      "metadata": {
        "id": "DxiyEjnXnDUT",
        "colab": {
          "base_uri": "https://localhost:8080/"
        },
        "outputId": "da4ac74e-cfa9-48d0-f69c-2000bebf2a04"
      },
      "source": [
        "np.random.rand(3,3)"
      ],
      "execution_count": null,
      "outputs": [
        {
          "output_type": "execute_result",
          "data": {
            "text/plain": [
              "array([[0.15114447, 0.64805196, 0.01507201],\n",
              "       [0.12452428, 0.36550673, 0.91344582],\n",
              "       [0.12434831, 0.0837656 , 0.50605506]])"
            ]
          },
          "metadata": {},
          "execution_count": 33
        }
      ]
    },
    {
      "cell_type": "markdown",
      "metadata": {
        "id": "IegH2dsPLQgd"
      },
      "source": [
        "* `random.randn()`: 표준 정규 분포(standard normal distribution)를 고려한 랜덤한 수의 배열 생성"
      ]
    },
    {
      "cell_type": "code",
      "metadata": {
        "id": "V61VHa-JLIma",
        "colab": {
          "base_uri": "https://localhost:8080/"
        },
        "outputId": "8e0d90f9-e58c-41e6-eb09-0e70c4ddb67d"
      },
      "source": [
        "np.random.randn(3,3)"
      ],
      "execution_count": null,
      "outputs": [
        {
          "output_type": "execute_result",
          "data": {
            "text/plain": [
              "array([[ 0.07370747,  0.17896553, -0.87404742],\n",
              "       [-0.50268092, -0.38176756,  1.34115677],\n",
              "       [ 0.03600924,  0.47399653, -0.21293075]])"
            ]
          },
          "metadata": {},
          "execution_count": 34
        }
      ]
    },
    {
      "cell_type": "markdown",
      "metadata": {
        "id": "5ts0cYLQL_pT"
      },
      "source": [
        "### 표준 데이터 타입"
      ]
    },
    {
      "cell_type": "code",
      "metadata": {
        "id": "rxqTqAFKL73y",
        "colab": {
          "base_uri": "https://localhost:8080/"
        },
        "outputId": "c72c0736-1de4-4d6b-c2e1-de430f5f62ea"
      },
      "source": [
        "np.zeros(20,dtype=int)"
      ],
      "execution_count": null,
      "outputs": [
        {
          "output_type": "execute_result",
          "data": {
            "text/plain": [
              "array([0, 0, 0, 0, 0, 0, 0, 0, 0, 0, 0, 0, 0, 0, 0, 0, 0, 0, 0, 0])"
            ]
          },
          "metadata": {},
          "execution_count": 35
        }
      ]
    },
    {
      "cell_type": "code",
      "metadata": {
        "id": "o9TuSl6HIsXr",
        "colab": {
          "base_uri": "https://localhost:8080/"
        },
        "outputId": "da5df4e9-d8db-4d88-e104-059432f23c07"
      },
      "source": [
        "np.ones((3,3),dtype=bool)"
      ],
      "execution_count": null,
      "outputs": [
        {
          "output_type": "execute_result",
          "data": {
            "text/plain": [
              "array([[ True,  True,  True],\n",
              "       [ True,  True,  True],\n",
              "       [ True,  True,  True]])"
            ]
          },
          "metadata": {},
          "execution_count": 36
        }
      ]
    },
    {
      "cell_type": "code",
      "metadata": {
        "id": "w-TciNfzEhY0",
        "colab": {
          "base_uri": "https://localhost:8080/"
        },
        "outputId": "eee913e0-00b3-470f-a03d-099083d36458"
      },
      "source": [
        "np.full((3,3),1.0,dtype=float)"
      ],
      "execution_count": null,
      "outputs": [
        {
          "output_type": "execute_result",
          "data": {
            "text/plain": [
              "array([[1., 1., 1.],\n",
              "       [1., 1., 1.],\n",
              "       [1., 1., 1.]])"
            ]
          },
          "metadata": {},
          "execution_count": 38
        }
      ]
    },
    {
      "cell_type": "markdown",
      "metadata": {
        "id": "1qFumu-p-0mQ"
      },
      "source": [
        "### 날짜/시간 배열 생성\n"
      ]
    },
    {
      "cell_type": "code",
      "metadata": {
        "id": "D8ozvTUf-6Rr",
        "colab": {
          "base_uri": "https://localhost:8080/"
        },
        "outputId": "c5bb96ae-8e3b-4ccb-da22-001c25292e04"
      },
      "source": [
        "date=np.array('2020-01-01',dtype=np.datetime64)\n",
        "date"
      ],
      "execution_count": null,
      "outputs": [
        {
          "output_type": "execute_result",
          "data": {
            "text/plain": [
              "array('2020-01-01', dtype='datetime64[D]')"
            ]
          },
          "metadata": {},
          "execution_count": 39
        }
      ]
    },
    {
      "cell_type": "code",
      "metadata": {
        "id": "XIjLUkn6_K3J",
        "colab": {
          "base_uri": "https://localhost:8080/"
        },
        "outputId": "94b5333d-1ebb-4892-bad3-2dda80c73e38"
      },
      "source": [
        "date+np.arange(12)"
      ],
      "execution_count": null,
      "outputs": [
        {
          "output_type": "execute_result",
          "data": {
            "text/plain": [
              "array(['2020-01-01', '2020-01-02', '2020-01-03', '2020-01-04',\n",
              "       '2020-01-05', '2020-01-06', '2020-01-07', '2020-01-08',\n",
              "       '2020-01-09', '2020-01-10', '2020-01-11', '2020-01-12'],\n",
              "      dtype='datetime64[D]')"
            ]
          },
          "metadata": {},
          "execution_count": 40
        }
      ]
    },
    {
      "cell_type": "code",
      "metadata": {
        "id": "EO7yE5VR_Wlh",
        "colab": {
          "base_uri": "https://localhost:8080/"
        },
        "outputId": "3fb1cabe-e68b-4b84-cdc2-2472eb7e5848"
      },
      "source": [
        "datetime=np.datetime64('2020-06-01 12:00')\n",
        "datetime"
      ],
      "execution_count": null,
      "outputs": [
        {
          "output_type": "execute_result",
          "data": {
            "text/plain": [
              "numpy.datetime64('2020-06-01T12:00')"
            ]
          },
          "metadata": {},
          "execution_count": 41
        }
      ]
    },
    {
      "cell_type": "code",
      "metadata": {
        "id": "3dnOlf9i_kzX",
        "colab": {
          "base_uri": "https://localhost:8080/"
        },
        "outputId": "1301a18f-26b1-4701-9a07-60885b838ae6"
      },
      "source": [
        "datetime=np.datetime64('2020-06-01 12:00:12.34', 'ns')\n",
        "datetime"
      ],
      "execution_count": null,
      "outputs": [
        {
          "output_type": "execute_result",
          "data": {
            "text/plain": [
              "numpy.datetime64('2020-06-01T12:00:12.340000000')"
            ]
          },
          "metadata": {},
          "execution_count": 42
        }
      ]
    },
    {
      "cell_type": "markdown",
      "metadata": {
        "id": "5AREIamhGxAr"
      },
      "source": [
        "\n",
        "\n",
        "---\n",
        "\n"
      ]
    },
    {
      "cell_type": "markdown",
      "metadata": {
        "id": "d88tkTqbBE5V"
      },
      "source": [
        "## 배열 조회"
      ]
    },
    {
      "cell_type": "markdown",
      "metadata": {
        "id": "vRqwfbjtFnPn"
      },
      "source": [
        "### 배열 속성 정보"
      ]
    },
    {
      "cell_type": "code",
      "metadata": {
        "id": "R5Rlcll7GXrM"
      },
      "source": [
        "def array_info(array):\n",
        "  print(array)\n",
        "  print(\"ndim:\",array.ndim)\n",
        "  print(\"shape\",array.shape)\n",
        "  print(\"dtype:\",array.dtype)\n",
        "  print(\"size:\",array.size)\n",
        "  print(\"itemsize:\",array.itemsize)\n",
        "  print(\"nbytes:\",array.nbytes)\n",
        "  print(\"strides:\",array.strides)"
      ],
      "execution_count": null,
      "outputs": []
    },
    {
      "cell_type": "code",
      "metadata": {
        "id": "Na59LwA7KXZV",
        "colab": {
          "base_uri": "https://localhost:8080/"
        },
        "outputId": "b7b57983-eb08-4e59-c27c-03865e272402"
      },
      "source": [
        "array_info(a1)"
      ],
      "execution_count": null,
      "outputs": [
        {
          "output_type": "stream",
          "name": "stdout",
          "text": [
            "[4 5 6 4 5]\n",
            "ndim: 1\n",
            "shape (5,)\n",
            "dtype: int64\n",
            "size: 5\n",
            "itemsize: 8\n",
            "nbytes: 40\n",
            "strides: (8,)\n"
          ]
        }
      ]
    },
    {
      "cell_type": "code",
      "metadata": {
        "id": "Urzr_LsdLah0",
        "colab": {
          "base_uri": "https://localhost:8080/"
        },
        "outputId": "ea483d27-643a-4fc6-e34a-6962eeb6c6f2"
      },
      "source": [
        "array_info(a2)"
      ],
      "execution_count": null,
      "outputs": [
        {
          "output_type": "stream",
          "name": "stdout",
          "text": [
            "[[1 2 3]\n",
            " [4 5 6]\n",
            " [7 8 9]]\n",
            "ndim: 2\n",
            "shape (3, 3)\n",
            "dtype: int64\n",
            "size: 9\n",
            "itemsize: 8\n",
            "nbytes: 72\n",
            "strides: (24, 8)\n"
          ]
        }
      ]
    },
    {
      "cell_type": "code",
      "metadata": {
        "id": "jktqh1lsLf4V",
        "colab": {
          "base_uri": "https://localhost:8080/"
        },
        "outputId": "33996685-d08b-41b6-84ee-f0ee9e9490fd"
      },
      "source": [
        "array_info(a3)"
      ],
      "execution_count": null,
      "outputs": [
        {
          "output_type": "stream",
          "name": "stdout",
          "text": [
            "[[[1 2 3]\n",
            "  [4 5 6]\n",
            "  [7 8 9]]\n",
            "\n",
            " [[1 2 3]\n",
            "  [4 5 6]\n",
            "  [7 8 9]]\n",
            "\n",
            " [[1 2 3]\n",
            "  [4 5 6]\n",
            "  [7 8 9]]]\n",
            "ndim: 3\n",
            "shape (3, 3, 3)\n",
            "dtype: int64\n",
            "size: 27\n",
            "itemsize: 8\n",
            "nbytes: 216\n",
            "strides: (72, 24, 8)\n"
          ]
        }
      ]
    },
    {
      "cell_type": "markdown",
      "metadata": {
        "id": "LV1WfdBWFqDu"
      },
      "source": [
        "### 인덱싱(Indexing)"
      ]
    },
    {
      "cell_type": "code",
      "metadata": {
        "id": "Nyb7eDmGFr5m",
        "colab": {
          "base_uri": "https://localhost:8080/"
        },
        "outputId": "441aa344-8ff7-4626-b5be-6028af62e5a7"
      },
      "source": [
        "print(a1)\n",
        "print(a1[0])\n",
        "print(a1[2])\n",
        "print(a1[-1])\n",
        "print(a1[-2])"
      ],
      "execution_count": null,
      "outputs": [
        {
          "output_type": "stream",
          "name": "stdout",
          "text": [
            "[4 5 6 4 5]\n",
            "4\n",
            "6\n",
            "5\n",
            "4\n"
          ]
        }
      ]
    },
    {
      "cell_type": "code",
      "metadata": {
        "id": "uHMNcQW3Kn-h",
        "colab": {
          "base_uri": "https://localhost:8080/"
        },
        "outputId": "5e21bd7d-d87d-41d0-e12a-e76359f96e91"
      },
      "source": [
        "print(a2)\n",
        "print(a2[0,0])\n",
        "print(a2[0,2])\n",
        "print(a2[1,1])\n",
        "print(a2[2,-1])"
      ],
      "execution_count": null,
      "outputs": [
        {
          "output_type": "stream",
          "name": "stdout",
          "text": [
            "[[1 2 3]\n",
            " [4 5 6]\n",
            " [7 8 9]]\n",
            "1\n",
            "3\n",
            "5\n",
            "9\n"
          ]
        }
      ]
    },
    {
      "cell_type": "code",
      "metadata": {
        "id": "IX5yDMGiMxYZ",
        "colab": {
          "base_uri": "https://localhost:8080/"
        },
        "outputId": "e124d231-2dfd-4a9e-fb90-942c52ebdd0b"
      },
      "source": [
        "print(a3)\n",
        "print(a3[0,0,0])\n",
        "print(a3[2,-1,-1])"
      ],
      "execution_count": null,
      "outputs": [
        {
          "output_type": "stream",
          "name": "stdout",
          "text": [
            "[[[1 2 3]\n",
            "  [4 5 6]\n",
            "  [7 8 9]]\n",
            "\n",
            " [[1 2 3]\n",
            "  [4 5 6]\n",
            "  [7 8 9]]\n",
            "\n",
            " [[1 2 3]\n",
            "  [4 5 6]\n",
            "  [7 8 9]]]\n",
            "1\n",
            "9\n"
          ]
        }
      ]
    },
    {
      "cell_type": "markdown",
      "metadata": {
        "id": "uSeXu2y_O4cu"
      },
      "source": [
        "### 슬라이싱(Slicing)"
      ]
    },
    {
      "cell_type": "markdown",
      "metadata": {
        "id": "1hikO_6ZPp5m"
      },
      "source": [
        "* 슬라이싱 구문: `a[start:stop:step]`\n",
        "* 기본값: start=0, stop=ndim, step=1"
      ]
    },
    {
      "cell_type": "code",
      "metadata": {
        "id": "PYZOOCoVO7BF",
        "colab": {
          "base_uri": "https://localhost:8080/"
        },
        "outputId": "bdc6b9ac-070d-4899-81f8-db9e83dfee78"
      },
      "source": [
        "print(a1)\n",
        "print(a1[0:2])\n",
        "print(a1[0:])\n",
        "print(a1[:1])\n",
        "print(a1[::2])\n",
        "print(a1[::-1])"
      ],
      "execution_count": null,
      "outputs": [
        {
          "output_type": "stream",
          "name": "stdout",
          "text": [
            "[4 5 6 4 5]\n",
            "[4 5]\n",
            "[4 5 6 4 5]\n",
            "[4]\n",
            "[4 6 5]\n",
            "[5 4 6 5 4]\n"
          ]
        }
      ]
    },
    {
      "cell_type": "code",
      "metadata": {
        "id": "oULOFrBQWs1G",
        "colab": {
          "base_uri": "https://localhost:8080/"
        },
        "outputId": "130c9189-d3d8-4c0a-9b51-1673b30d02c4"
      },
      "source": [
        "print(a2)\n",
        "print(a2[1])\n",
        "print(a2[1,:])\n",
        "print(a2[:2,:2])\n",
        "print(a2[1:,::-1])\n",
        "print(a2[::-1,::-1])"
      ],
      "execution_count": null,
      "outputs": [
        {
          "output_type": "stream",
          "name": "stdout",
          "text": [
            "[[1 2 3]\n",
            " [4 5 6]\n",
            " [7 8 9]]\n",
            "[4 5 6]\n",
            "[4 5 6]\n",
            "[[1 2]\n",
            " [4 5]]\n",
            "[[6 5 4]\n",
            " [9 8 7]]\n",
            "[[9 8 7]\n",
            " [6 5 4]\n",
            " [3 2 1]]\n"
          ]
        }
      ]
    },
    {
      "cell_type": "markdown",
      "metadata": {
        "id": "LD52bXAsBgbH"
      },
      "source": [
        "### 불리언 인덱싱(Boolean Indexing)\n",
        "\n",
        "* 배열 각 요소의 선택 여부를 불리언(True or False)로 지정\n",
        "* True 값인 인덱스의 값만 조회"
      ]
    },
    {
      "cell_type": "code",
      "metadata": {
        "id": "pOvNsH2oBgz-",
        "colab": {
          "base_uri": "https://localhost:8080/"
        },
        "outputId": "8a61e946-72ac-40dc-9d78-c72eba072e6c"
      },
      "source": [
        "print(a1)\n",
        "bi=[False,True,True,False,True]\n",
        "print(a1[bi])"
      ],
      "execution_count": null,
      "outputs": [
        {
          "output_type": "stream",
          "name": "stdout",
          "text": [
            "[4 5 6 4 5]\n",
            "[5 6 5]\n"
          ]
        }
      ]
    },
    {
      "cell_type": "code",
      "metadata": {
        "id": "EFfquM2kWHAU",
        "colab": {
          "base_uri": "https://localhost:8080/"
        },
        "outputId": "b341fa08-076a-4522-b896-c8acf4b08177"
      },
      "source": [
        "print(a2)\n",
        "bi=np.random.randint(0,2,(3,3),dtype=bool)\n",
        "print(bi)\n",
        "print(a2[bi])"
      ],
      "execution_count": null,
      "outputs": [
        {
          "output_type": "stream",
          "name": "stdout",
          "text": [
            "[[1 2 3]\n",
            " [4 5 6]\n",
            " [7 8 9]]\n",
            "[[False False False]\n",
            " [False  True False]\n",
            " [False False False]]\n",
            "[5]\n"
          ]
        }
      ]
    },
    {
      "cell_type": "markdown",
      "metadata": {
        "id": "R5hes-hdBujH"
      },
      "source": [
        "### 팬시 인덱싱(Fancy Indedxing)"
      ]
    },
    {
      "cell_type": "code",
      "metadata": {
        "id": "z-Luw5fzBx30",
        "colab": {
          "base_uri": "https://localhost:8080/"
        },
        "outputId": "c6f8eee3-305d-4057-f9a7-691cbb81102f"
      },
      "source": [
        "print(a1)\n",
        "print([a1[0],a1[2]])\n",
        "ind=[0,2]\n",
        "print(a1[ind])\n",
        "ind=np.array([[0,1],\n",
        "              [2,0]])\n",
        "print(a1[ind])"
      ],
      "execution_count": null,
      "outputs": [
        {
          "output_type": "stream",
          "name": "stdout",
          "text": [
            "[4 5 6 4 5]\n",
            "[4, 6]\n",
            "[4 6]\n",
            "[[4 5]\n",
            " [6 4]]\n"
          ]
        }
      ]
    },
    {
      "cell_type": "code",
      "metadata": {
        "id": "p_Dd0oiJahgj",
        "colab": {
          "base_uri": "https://localhost:8080/"
        },
        "outputId": "20f80d06-4c4a-4134-c069-6e0b1b88ca77"
      },
      "source": [
        "print(a2)\n",
        "row=np.array([0,2])\n",
        "col=np.array([1,2])\n",
        "print(a2[row,col])\n",
        "print(a2[row, :])\n",
        "print(a2[:,col])\n",
        "print(a2[row,1])\n",
        "print(a2[2,col])\n",
        "print(a2[row,1:])\n",
        "print(a2[1:,col])"
      ],
      "execution_count": null,
      "outputs": [
        {
          "output_type": "stream",
          "name": "stdout",
          "text": [
            "[[1 2 3]\n",
            " [4 5 6]\n",
            " [7 8 9]]\n",
            "[2 9]\n",
            "[[1 2 3]\n",
            " [7 8 9]]\n",
            "[[2 3]\n",
            " [5 6]\n",
            " [8 9]]\n",
            "[2 8]\n",
            "[8 9]\n",
            "[[2 3]\n",
            " [8 9]]\n",
            "[[5 6]\n",
            " [8 9]]\n"
          ]
        }
      ]
    },
    {
      "cell_type": "markdown",
      "metadata": {
        "id": "F71_PQF1GvTs"
      },
      "source": [
        "\n",
        "\n",
        "---\n",
        "\n"
      ]
    },
    {
      "cell_type": "markdown",
      "metadata": {
        "id": "zDI5yQ58O-IX"
      },
      "source": [
        "## 배열 값 삽입/수정/삭제/복사"
      ]
    },
    {
      "cell_type": "markdown",
      "metadata": {
        "id": "zajd1qpVOQYy"
      },
      "source": [
        "### 배열 값 삽입\n",
        "\n",
        "* `insert()`: 배열의 특정 위치에 값 삽입\n",
        "* axis를 지정하지 않으면 1차원 배열로 변환\n",
        "* 추가할 방향을 axis로 지정\n",
        "* 원본 배열 변경없이 새로운 배열 반환"
      ]
    },
    {
      "cell_type": "code",
      "metadata": {
        "id": "sedRT54rP395",
        "colab": {
          "base_uri": "https://localhost:8080/"
        },
        "outputId": "8bfcdfac-f5f0-457b-8c8a-c91142720a6a"
      },
      "source": [
        "print(a1)\n",
        "b1=np.insert(a1,0,10)\n",
        "print(b1)\n",
        "print(a1)\n",
        "c1=np.insert(a1,2,10)\n",
        "print(c1)"
      ],
      "execution_count": null,
      "outputs": [
        {
          "output_type": "stream",
          "name": "stdout",
          "text": [
            "[4 5 6 4 5]\n",
            "[10  4  5  6  4  5]\n",
            "[4 5 6 4 5]\n",
            "[ 4  5 10  6  4  5]\n"
          ]
        }
      ]
    },
    {
      "cell_type": "code",
      "metadata": {
        "id": "zNmu1E4iQ6h-",
        "colab": {
          "base_uri": "https://localhost:8080/"
        },
        "outputId": "dac79060-fda6-4972-d7e3-06a01aaca60b"
      },
      "source": [
        "print(a2)\n",
        "b2=np.insert(a2,1,10,axis=0)\n",
        "print(b2)\n",
        "c2=np.insert(a2,1,10,axis=1)\n",
        "print(c2)"
      ],
      "execution_count": null,
      "outputs": [
        {
          "output_type": "stream",
          "name": "stdout",
          "text": [
            "[[1 2 3]\n",
            " [4 5 6]\n",
            " [7 8 9]]\n",
            "[[ 1  2  3]\n",
            " [10 10 10]\n",
            " [ 4  5  6]\n",
            " [ 7  8  9]]\n",
            "[[ 1 10  2  3]\n",
            " [ 4 10  5  6]\n",
            " [ 7 10  8  9]]\n"
          ]
        }
      ]
    },
    {
      "cell_type": "markdown",
      "metadata": {
        "id": "OlEzG4ffNjyL"
      },
      "source": [
        "### 배열 값 수정\n",
        "\n",
        "* 배열의 인덱싱으로 접근하여 값 수정"
      ]
    },
    {
      "cell_type": "code",
      "metadata": {
        "id": "ec43i1KWNjeN",
        "colab": {
          "base_uri": "https://localhost:8080/"
        },
        "outputId": "1d7a686b-ea72-4472-85e9-4d805056033a"
      },
      "source": [
        "print(a1)\n",
        "a1[0]=1\n",
        "a1[1]=2\n",
        "a1[2]=3\n",
        "print(a1)\n",
        "a1[:1]=9\n",
        "print(a1)\n",
        "i=np.array([1,3,4])\n",
        "a1[i]=0\n",
        "print(a1)\n",
        "a1[i]+=4\n",
        "print(a1)"
      ],
      "execution_count": null,
      "outputs": [
        {
          "output_type": "stream",
          "name": "stdout",
          "text": [
            "[9 4 3 4 4]\n",
            "[1 2 3 4 4]\n",
            "[9 2 3 4 4]\n",
            "[9 0 3 0 0]\n",
            "[9 4 3 4 4]\n"
          ]
        }
      ]
    },
    {
      "cell_type": "code",
      "metadata": {
        "id": "IApNNx3NOMQh",
        "colab": {
          "base_uri": "https://localhost:8080/"
        },
        "outputId": "9be52bed-1e43-4c29-af2a-560228203945"
      },
      "source": [
        "print(a2)\n",
        "a2[0,0]=1\n",
        "a2[1,1]=2\n",
        "a2[2,2]=3\n",
        "a2[0]=1\n",
        "print(a2)\n",
        "a2[1:,2]=9\n",
        "print(a2)\n",
        "row=np.array([0,1])\n",
        "col=np.array([1,2])\n",
        "a2[row,col]=0\n",
        "print(a2)"
      ],
      "execution_count": null,
      "outputs": [
        {
          "output_type": "stream",
          "name": "stdout",
          "text": [
            "[[1 1 1]\n",
            " [4 2 6]\n",
            " [7 8 3]]\n",
            "[[1 1 1]\n",
            " [4 2 6]\n",
            " [7 8 3]]\n",
            "[[1 1 1]\n",
            " [4 2 9]\n",
            " [7 8 9]]\n",
            "[[1 0 1]\n",
            " [4 2 0]\n",
            " [7 8 9]]\n"
          ]
        }
      ]
    },
    {
      "cell_type": "markdown",
      "metadata": {
        "id": "emV7DgrITPcn"
      },
      "source": [
        "### 배열 값 삭제\n",
        "\n",
        "* `delete()`: 배열의 특정 위치에 값 삭제\n",
        "* axis를 지정하지 않으면 1차원 배열로 변환\n",
        "* 삭제할 방향을 axis로 지정\n",
        "* 원본 배열 변경없이 새로운 배열 반환"
      ]
    },
    {
      "cell_type": "code",
      "metadata": {
        "id": "I3k_Yx8lTRJ2",
        "colab": {
          "base_uri": "https://localhost:8080/"
        },
        "outputId": "04c3abcc-1376-480a-b9bd-9daa7e487285"
      },
      "source": [
        "print(a1)\n",
        "b1=np.delete(a1,1)\n",
        "print(b1)"
      ],
      "execution_count": null,
      "outputs": [
        {
          "output_type": "stream",
          "name": "stdout",
          "text": [
            "[9 4 3 4 4]\n",
            "[9 3 4 4]\n"
          ]
        }
      ]
    },
    {
      "cell_type": "code",
      "metadata": {
        "id": "tRTwMIfJTq_y",
        "colab": {
          "base_uri": "https://localhost:8080/"
        },
        "outputId": "1ad409d6-e0a0-49aa-e90f-7f0c538c2a06"
      },
      "source": [
        "print(a2)\n",
        "b2=np.delete(a2,1,axis=0)\n",
        "print(b2)"
      ],
      "execution_count": null,
      "outputs": [
        {
          "output_type": "stream",
          "name": "stdout",
          "text": [
            "[[1 0 1]\n",
            " [4 2 0]\n",
            " [7 8 9]]\n",
            "[[1 0 1]\n",
            " [7 8 9]]\n"
          ]
        }
      ]
    },
    {
      "cell_type": "markdown",
      "metadata": {
        "id": "UydkYxV8Z6Fx"
      },
      "source": [
        "### 배열 복사\n",
        "\n",
        "* 리스트 자료형과 달리 배열의 슬라이스는 **복사본이 아님**"
      ]
    },
    {
      "cell_type": "code",
      "metadata": {
        "id": "n2_0L8KWZ7wH",
        "colab": {
          "base_uri": "https://localhost:8080/"
        },
        "outputId": "cae68050-4572-4919-d2b5-98beb7ac15a2"
      },
      "source": [
        "print(a2)\n",
        "print(a2[:2,:2])\n",
        "a2_sub=a2[:2,:2]\n",
        "print(a2_sub)\n",
        "a2_sub[:,1]=0\n",
        "print(a2_sub)"
      ],
      "execution_count": null,
      "outputs": [
        {
          "output_type": "stream",
          "name": "stdout",
          "text": [
            "[[1 0 1]\n",
            " [4 2 0]\n",
            " [7 8 9]]\n",
            "[[1 0]\n",
            " [4 2]]\n",
            "[[1 0]\n",
            " [4 2]]\n",
            "[[1 0]\n",
            " [4 0]]\n"
          ]
        }
      ]
    },
    {
      "cell_type": "markdown",
      "metadata": {
        "id": "UrQqOC1Eat5l"
      },
      "source": [
        "\n",
        "* `copy()`: 배열이나 하위 배열 내의 값을 명시적으로 복사"
      ]
    },
    {
      "cell_type": "code",
      "metadata": {
        "id": "hLBZ7Qn6bAKO",
        "colab": {
          "base_uri": "https://localhost:8080/"
        },
        "outputId": "9789e6b6-92cc-44a5-d5c4-4f92c609242a"
      },
      "source": [
        "print(a2)\n",
        "a2_sub_copy=a2[:2,:2].copy()\n",
        "print(a2_sub_copy)\n",
        "a2_sub_copy[:,1]=1\n",
        "print(a2_sub_copy)\n",
        "print(a2)"
      ],
      "execution_count": null,
      "outputs": [
        {
          "output_type": "stream",
          "name": "stdout",
          "text": [
            "[[1 0 1]\n",
            " [4 0 0]\n",
            " [7 8 9]]\n",
            "[[1 0]\n",
            " [4 0]]\n",
            "[[1 1]\n",
            " [4 1]]\n",
            "[[1 0 1]\n",
            " [4 0 0]\n",
            " [7 8 9]]\n"
          ]
        }
      ]
    },
    {
      "cell_type": "markdown",
      "metadata": {
        "id": "4HTc9FXOGtA7"
      },
      "source": [
        "\n",
        "\n",
        "---\n",
        "\n"
      ]
    },
    {
      "cell_type": "markdown",
      "metadata": {
        "id": "XVZY082__yV6"
      },
      "source": [
        "## 배열 변환"
      ]
    },
    {
      "cell_type": "markdown",
      "metadata": {
        "id": "Ec09aPeBO58M"
      },
      "source": [
        "### 배열 전치 및 축 변경"
      ]
    },
    {
      "cell_type": "code",
      "metadata": {
        "id": "anYByBpoWZmj",
        "colab": {
          "base_uri": "https://localhost:8080/"
        },
        "outputId": "6ed6991b-9ca7-43da-f983-7cc37e8384e6"
      },
      "source": [
        "print(a2)\n",
        "print(a2.T)"
      ],
      "execution_count": null,
      "outputs": [
        {
          "output_type": "stream",
          "name": "stdout",
          "text": [
            "[[1 0 1]\n",
            " [4 0 0]\n",
            " [7 8 9]]\n",
            "[[1 4 7]\n",
            " [0 0 8]\n",
            " [1 0 9]]\n"
          ]
        }
      ]
    },
    {
      "cell_type": "code",
      "metadata": {
        "id": "wg4XC6kiRnZo",
        "colab": {
          "base_uri": "https://localhost:8080/"
        },
        "outputId": "ea13b032-17f2-458f-8a11-a7823b37d47b"
      },
      "source": [
        "print(a3)\n",
        "print(a3.T)"
      ],
      "execution_count": null,
      "outputs": [
        {
          "output_type": "stream",
          "name": "stdout",
          "text": [
            "[[[1 2 3]\n",
            "  [4 5 6]\n",
            "  [7 8 9]]\n",
            "\n",
            " [[1 2 3]\n",
            "  [4 5 6]\n",
            "  [7 8 9]]\n",
            "\n",
            " [[1 2 3]\n",
            "  [4 5 6]\n",
            "  [7 8 9]]]\n",
            "[[[1 1 1]\n",
            "  [4 4 4]\n",
            "  [7 7 7]]\n",
            "\n",
            " [[2 2 2]\n",
            "  [5 5 5]\n",
            "  [8 8 8]]\n",
            "\n",
            " [[3 3 3]\n",
            "  [6 6 6]\n",
            "  [9 9 9]]]\n"
          ]
        }
      ]
    },
    {
      "cell_type": "code",
      "metadata": {
        "id": "6lPwXL8rRTfI",
        "colab": {
          "base_uri": "https://localhost:8080/"
        },
        "outputId": "16fb7893-cbf7-4a9f-fb44-eee4f15f6a06"
      },
      "source": [
        "print(a2)\n",
        "print(a2.swapaxes(1,0))"
      ],
      "execution_count": null,
      "outputs": [
        {
          "output_type": "stream",
          "name": "stdout",
          "text": [
            "[[1 0 1]\n",
            " [4 0 0]\n",
            " [7 8 9]]\n",
            "[[1 4 7]\n",
            " [0 0 8]\n",
            " [1 0 9]]\n"
          ]
        }
      ]
    },
    {
      "cell_type": "code",
      "metadata": {
        "id": "oLbEHtijRewH",
        "colab": {
          "base_uri": "https://localhost:8080/"
        },
        "outputId": "fae46b24-2d92-4732-d1c3-30a481547344"
      },
      "source": [
        "print(a3)\n",
        "print(a3.swapaxes(0,1))\n",
        "print(a3.swapaxes(1,2))"
      ],
      "execution_count": null,
      "outputs": [
        {
          "output_type": "stream",
          "name": "stdout",
          "text": [
            "[[[1 2 3]\n",
            "  [4 5 6]\n",
            "  [7 8 9]]\n",
            "\n",
            " [[1 2 3]\n",
            "  [4 5 6]\n",
            "  [7 8 9]]\n",
            "\n",
            " [[1 2 3]\n",
            "  [4 5 6]\n",
            "  [7 8 9]]]\n",
            "[[[1 2 3]\n",
            "  [1 2 3]\n",
            "  [1 2 3]]\n",
            "\n",
            " [[4 5 6]\n",
            "  [4 5 6]\n",
            "  [4 5 6]]\n",
            "\n",
            " [[7 8 9]\n",
            "  [7 8 9]\n",
            "  [7 8 9]]]\n",
            "[[[1 4 7]\n",
            "  [2 5 8]\n",
            "  [3 6 9]]\n",
            "\n",
            " [[1 4 7]\n",
            "  [2 5 8]\n",
            "  [3 6 9]]\n",
            "\n",
            " [[1 4 7]\n",
            "  [2 5 8]\n",
            "  [3 6 9]]]\n"
          ]
        }
      ]
    },
    {
      "cell_type": "markdown",
      "metadata": {
        "id": "M7xN8WdOdb_S"
      },
      "source": [
        "### 배열 재구조화\n"
      ]
    },
    {
      "cell_type": "markdown",
      "metadata": {
        "id": "JwZJMpXGfY0V"
      },
      "source": [
        "* `reshape()`: 배열의 형상을 변경"
      ]
    },
    {
      "cell_type": "code",
      "metadata": {
        "id": "SlGQ17VQdd8i",
        "colab": {
          "base_uri": "https://localhost:8080/"
        },
        "outputId": "0f2443e1-c2af-4733-a83b-19cb53c6670d"
      },
      "source": [
        "n1=np.arange(1,10)\n",
        "print(n1)\n",
        "print(n1.reshape(3,3))"
      ],
      "execution_count": null,
      "outputs": [
        {
          "output_type": "stream",
          "name": "stdout",
          "text": [
            "[1 2 3 4 5 6 7 8 9]\n",
            "[[1 2 3]\n",
            " [4 5 6]\n",
            " [7 8 9]]\n"
          ]
        }
      ]
    },
    {
      "cell_type": "markdown",
      "metadata": {
        "id": "y_U1W-fQfuQY"
      },
      "source": [
        "* `newaxis()`: 새로운 축 추가"
      ]
    },
    {
      "cell_type": "code",
      "metadata": {
        "id": "COif_weCfkGo",
        "colab": {
          "base_uri": "https://localhost:8080/"
        },
        "outputId": "1923c442-3dec-49ce-953c-39d06c84c8f5"
      },
      "source": [
        "print(n1)\n",
        "print(n1[np.newaxis,:5])\n",
        "print(n1[:5,np.newaxis])\n"
      ],
      "execution_count": null,
      "outputs": [
        {
          "output_type": "stream",
          "name": "stdout",
          "text": [
            "[1 2 3 4 5 6 7 8 9]\n",
            "[[1 2 3 4 5]]\n",
            "[[1]\n",
            " [2]\n",
            " [3]\n",
            " [4]\n",
            " [5]]\n"
          ]
        }
      ]
    },
    {
      "cell_type": "markdown",
      "metadata": {
        "id": "FR82RSDggbcJ"
      },
      "source": [
        "### 배열 크기 변경"
      ]
    },
    {
      "cell_type": "markdown",
      "metadata": {
        "id": "D1LuDMVFl4tc"
      },
      "source": [
        "* 배열 모양만 변경"
      ]
    },
    {
      "cell_type": "code",
      "metadata": {
        "id": "7B6pHlfxgdSJ",
        "colab": {
          "base_uri": "https://localhost:8080/"
        },
        "outputId": "a700cd89-56f0-45d8-c4e3-79a6e1866655"
      },
      "source": [
        "n2=np.random.randint(0,10,(2,5))\n",
        "print(n2)\n",
        "n2.resize((5,2))\n",
        "print(n2)"
      ],
      "execution_count": null,
      "outputs": [
        {
          "output_type": "stream",
          "name": "stdout",
          "text": [
            "[[6 6 9 2 5]\n",
            " [0 4 0 1 1]]\n",
            "[[6 6]\n",
            " [9 2]\n",
            " [5 0]\n",
            " [4 0]\n",
            " [1 1]]\n"
          ]
        }
      ]
    },
    {
      "cell_type": "markdown",
      "metadata": {
        "id": "s0adm-h9l6sv"
      },
      "source": [
        "* 배열 크기 증가\n",
        "* 남은 공간은 0으로 채워짐"
      ]
    },
    {
      "cell_type": "code",
      "metadata": {
        "id": "IrX0UcjrlWRV",
        "colab": {
          "base_uri": "https://localhost:8080/"
        },
        "outputId": "a3234967-cb7d-4957-95cc-fe12cf74e6e8"
      },
      "source": [
        "n2.resize((2,5))\n",
        "print(n2)\n",
        "n2.resize((5,5), refcheck=False)  #stack overflow에서 찾은 코드...\n",
        "print(n2)"
      ],
      "execution_count": null,
      "outputs": [
        {
          "output_type": "stream",
          "name": "stdout",
          "text": [
            "[[6 6 9 2 5]\n",
            " [0 4 0 1 1]]\n",
            "[[6 6 9 2 5]\n",
            " [0 4 0 1 1]\n",
            " [0 0 0 0 0]\n",
            " [0 0 0 0 0]\n",
            " [0 0 0 0 0]]\n"
          ]
        }
      ]
    },
    {
      "cell_type": "markdown",
      "metadata": {
        "id": "78hPDEzfl9JB"
      },
      "source": [
        "* 배열 크기 감소\n",
        "* 포함되지 않은 값은 삭제됨"
      ]
    },
    {
      "cell_type": "code",
      "metadata": {
        "id": "fJWrwhc6lmjW",
        "colab": {
          "base_uri": "https://localhost:8080/"
        },
        "outputId": "a7092b3f-cf6c-4796-8af6-32ad2ffe0fba"
      },
      "source": [
        "n2.resize((3,3), refcheck=False)\n",
        "print(n2)"
      ],
      "execution_count": null,
      "outputs": [
        {
          "output_type": "stream",
          "name": "stdout",
          "text": [
            "[[6 6 9]\n",
            " [2 5 0]\n",
            " [4 0 1]]\n"
          ]
        }
      ]
    },
    {
      "cell_type": "markdown",
      "metadata": {
        "id": "r9z2gD_pHyx9"
      },
      "source": [
        "### 배열 추가\n",
        "\n",
        "* `append()`: 배열의 끝에 값 추가"
      ]
    },
    {
      "cell_type": "code",
      "metadata": {
        "id": "fH4lpQKNH5s1",
        "colab": {
          "base_uri": "https://localhost:8080/"
        },
        "outputId": "6b50d041-2eaf-425e-c84c-a80853e57b96"
      },
      "source": [
        "a2=np.arange(1,10).reshape(3,3)\n",
        "print(a2)\n",
        "b2=np.arange(10,19).reshape(3,3)\n",
        "print(b2)"
      ],
      "execution_count": null,
      "outputs": [
        {
          "output_type": "stream",
          "name": "stdout",
          "text": [
            "[[1 2 3]\n",
            " [4 5 6]\n",
            " [7 8 9]]\n",
            "[[10 11 12]\n",
            " [13 14 15]\n",
            " [16 17 18]]\n"
          ]
        }
      ]
    },
    {
      "cell_type": "markdown",
      "metadata": {
        "id": "n8SMl5VVIquk"
      },
      "source": [
        "* axis 지정이 없으면 1차원 배열 형태로 변형되어 결합"
      ]
    },
    {
      "cell_type": "code",
      "metadata": {
        "id": "LRltk3yFIVsV",
        "colab": {
          "base_uri": "https://localhost:8080/"
        },
        "outputId": "b2a59c76-2cd7-44d7-c3f0-d43960a51f68"
      },
      "source": [
        "c2=np.append(a2,b2)\n",
        "print(c2)"
      ],
      "execution_count": null,
      "outputs": [
        {
          "output_type": "stream",
          "name": "stdout",
          "text": [
            "[ 1  2  3  4  5  6  7  8  9 10 11 12 13 14 15 16 17 18]\n"
          ]
        }
      ]
    },
    {
      "cell_type": "markdown",
      "metadata": {
        "id": "sVW2UFVZJfpR"
      },
      "source": [
        "* axis를 0으로 지정\n",
        "* shape[0]을 제외한 나머지 shape은 같아야 함"
      ]
    },
    {
      "cell_type": "code",
      "metadata": {
        "id": "nwJ4xLOeIbMg",
        "colab": {
          "base_uri": "https://localhost:8080/"
        },
        "outputId": "46ed87ca-f6d4-482c-f483-90410744d854"
      },
      "source": [
        "c2=np.append(a2,b2,axis=0)\n",
        "print(c2)"
      ],
      "execution_count": null,
      "outputs": [
        {
          "output_type": "stream",
          "name": "stdout",
          "text": [
            "[[ 1  2  3]\n",
            " [ 4  5  6]\n",
            " [ 7  8  9]\n",
            " [10 11 12]\n",
            " [13 14 15]\n",
            " [16 17 18]]\n"
          ]
        }
      ]
    },
    {
      "cell_type": "markdown",
      "metadata": {
        "id": "4YXxzygaJmj-"
      },
      "source": [
        "* axis를 1로 지정\n",
        "* shape[1]을 제외한 나머지 shape은 같아야 함"
      ]
    },
    {
      "cell_type": "code",
      "metadata": {
        "id": "JYE4_5gAJmYe",
        "colab": {
          "base_uri": "https://localhost:8080/"
        },
        "outputId": "4813d449-02f4-4922-c22d-27cb90fa07c1"
      },
      "source": [
        "c2=np.append(a2,b2,axis=1)\n",
        "print(c2)"
      ],
      "execution_count": null,
      "outputs": [
        {
          "output_type": "stream",
          "name": "stdout",
          "text": [
            "[[ 1  2  3 10 11 12]\n",
            " [ 4  5  6 13 14 15]\n",
            " [ 7  8  9 16 17 18]]\n"
          ]
        }
      ]
    },
    {
      "cell_type": "markdown",
      "metadata": {
        "id": "9sTza3b2hoe4"
      },
      "source": [
        "### 배열 연결"
      ]
    },
    {
      "cell_type": "markdown",
      "metadata": {
        "id": "TRun2NPYj8Ct"
      },
      "source": [
        "* `concatenate()`: 튜플이나 배열의 리스트를 인수로 사용해 배열 연결"
      ]
    },
    {
      "cell_type": "code",
      "metadata": {
        "id": "lmEqdPifhrB_",
        "colab": {
          "base_uri": "https://localhost:8080/"
        },
        "outputId": "e485e550-312e-429e-8f5c-63e508c9e86d"
      },
      "source": [
        "a1=np.array([1,3,5])\n",
        "b1=np.array([2,4,6])\n",
        "np.concatenate([a1,b1])"
      ],
      "execution_count": null,
      "outputs": [
        {
          "output_type": "execute_result",
          "data": {
            "text/plain": [
              "array([1, 3, 5, 2, 4, 6])"
            ]
          },
          "metadata": {},
          "execution_count": 106
        }
      ]
    },
    {
      "cell_type": "code",
      "metadata": {
        "id": "IkoTNIt2k0tp",
        "colab": {
          "base_uri": "https://localhost:8080/"
        },
        "outputId": "e6c63105-2c96-4755-8fe6-a59ef475fd58"
      },
      "source": [
        "c1=np.array([7,8,9])\n",
        "np.concatenate([a1,b1,c1])"
      ],
      "execution_count": null,
      "outputs": [
        {
          "output_type": "execute_result",
          "data": {
            "text/plain": [
              "array([1, 3, 5, 2, 4, 6, 7, 8, 9])"
            ]
          },
          "metadata": {},
          "execution_count": 107
        }
      ]
    },
    {
      "cell_type": "code",
      "metadata": {
        "id": "vX0SCYX3lEs2",
        "colab": {
          "base_uri": "https://localhost:8080/"
        },
        "outputId": "8e3ef54b-6116-4654-8355-df40cef7d514"
      },
      "source": [
        "a2=np.array([[1,2,3],[4,5,6]])\n",
        "np.concatenate([a2,a2])"
      ],
      "execution_count": null,
      "outputs": [
        {
          "output_type": "execute_result",
          "data": {
            "text/plain": [
              "array([[1, 2, 3],\n",
              "       [4, 5, 6],\n",
              "       [1, 2, 3],\n",
              "       [4, 5, 6]])"
            ]
          },
          "metadata": {},
          "execution_count": 108
        }
      ]
    },
    {
      "cell_type": "code",
      "metadata": {
        "id": "Rv6xGva7lxHP",
        "colab": {
          "base_uri": "https://localhost:8080/"
        },
        "outputId": "9d2c90d1-52e0-4c8b-a8db-6ac3f885d9e3"
      },
      "source": [
        "a2=np.array([[1,2,3],[4,5,6]])\n",
        "np.concatenate([a2,a2], axis=1)"
      ],
      "execution_count": null,
      "outputs": [
        {
          "output_type": "execute_result",
          "data": {
            "text/plain": [
              "array([[1, 2, 3, 1, 2, 3],\n",
              "       [4, 5, 6, 4, 5, 6]])"
            ]
          },
          "metadata": {},
          "execution_count": 109
        }
      ]
    },
    {
      "cell_type": "markdown",
      "metadata": {
        "id": "MbiBbx4nl2KD"
      },
      "source": [
        "* `vstack()`: 수직 스택(vertical stack), 1차원으로 연결"
      ]
    },
    {
      "cell_type": "code",
      "metadata": {
        "id": "HkHJwdBMl_qi",
        "colab": {
          "base_uri": "https://localhost:8080/"
        },
        "outputId": "89f902ea-0449-478d-bb1a-30d021cabf64"
      },
      "source": [
        "np.vstack([a2,a2])"
      ],
      "execution_count": null,
      "outputs": [
        {
          "output_type": "execute_result",
          "data": {
            "text/plain": [
              "array([[1, 2, 3],\n",
              "       [4, 5, 6],\n",
              "       [1, 2, 3],\n",
              "       [4, 5, 6]])"
            ]
          },
          "metadata": {},
          "execution_count": 110
        }
      ]
    },
    {
      "cell_type": "markdown",
      "metadata": {
        "id": "-hTlAnWxmHA_"
      },
      "source": [
        "* `hstack()`: 수평 스택(horizontal stack), 2차원으로 연결"
      ]
    },
    {
      "cell_type": "code",
      "metadata": {
        "id": "-HsGlAytmNEz",
        "colab": {
          "base_uri": "https://localhost:8080/"
        },
        "outputId": "71cb1793-2d92-4175-9c96-70430800a67b"
      },
      "source": [
        "np.hstack([a2,a2])"
      ],
      "execution_count": null,
      "outputs": [
        {
          "output_type": "execute_result",
          "data": {
            "text/plain": [
              "array([[1, 2, 3, 1, 2, 3],\n",
              "       [4, 5, 6, 4, 5, 6]])"
            ]
          },
          "metadata": {},
          "execution_count": 111
        }
      ]
    },
    {
      "cell_type": "markdown",
      "metadata": {
        "id": "CshM6LURmUhV"
      },
      "source": [
        "* `dstack()`: 깊이 스택(depth stack), 3차원으로 연결"
      ]
    },
    {
      "cell_type": "code",
      "metadata": {
        "id": "TFBdRddpmU4m",
        "colab": {
          "base_uri": "https://localhost:8080/"
        },
        "outputId": "fe150a3b-7c8f-42db-c4c1-cc6ddbcb4d69"
      },
      "source": [
        "np.dstack([a2,a2])"
      ],
      "execution_count": null,
      "outputs": [
        {
          "output_type": "execute_result",
          "data": {
            "text/plain": [
              "array([[[1, 1],\n",
              "        [2, 2],\n",
              "        [3, 3]],\n",
              "\n",
              "       [[4, 4],\n",
              "        [5, 5],\n",
              "        [6, 6]]])"
            ]
          },
          "metadata": {},
          "execution_count": 112
        }
      ]
    },
    {
      "cell_type": "markdown",
      "metadata": {
        "id": "JUBtc4UnpaSz"
      },
      "source": [
        "* `stack()`: 새로운 차원으로 연결"
      ]
    },
    {
      "cell_type": "code",
      "metadata": {
        "id": "JzoujQ9_pHS5",
        "colab": {
          "base_uri": "https://localhost:8080/"
        },
        "outputId": "4b4403c1-bb1d-4411-9c82-18de43658704"
      },
      "source": [
        "np.stack([a2,a2])"
      ],
      "execution_count": null,
      "outputs": [
        {
          "output_type": "execute_result",
          "data": {
            "text/plain": [
              "array([[[1, 2, 3],\n",
              "        [4, 5, 6]],\n",
              "\n",
              "       [[1, 2, 3],\n",
              "        [4, 5, 6]]])"
            ]
          },
          "metadata": {},
          "execution_count": 113
        }
      ]
    },
    {
      "cell_type": "markdown",
      "metadata": {
        "id": "eYz74NYKo8iH"
      },
      "source": [
        "### 배열 분할"
      ]
    },
    {
      "cell_type": "markdown",
      "metadata": {
        "id": "wjt2zku5pBmF"
      },
      "source": [
        "* `split()`: 배열 분할"
      ]
    },
    {
      "cell_type": "code",
      "metadata": {
        "id": "H_2e71heo-Eq",
        "colab": {
          "base_uri": "https://localhost:8080/"
        },
        "outputId": "a4b0362c-d546-4451-f8dc-8a3054230a63"
      },
      "source": [
        "a1=np.arange(0,10)\n",
        "print(a1)\n",
        "b1,c1=np.split(a1,[5])\n",
        "print(b1,c1)\n",
        "b1,c1,d1,e1,f1=np.split(a1,[2,4,6,8])\n",
        "print(b1,c1,d1,e1,f1)"
      ],
      "execution_count": null,
      "outputs": [
        {
          "output_type": "stream",
          "name": "stdout",
          "text": [
            "[0 1 2 3 4 5 6 7 8 9]\n",
            "[0 1 2 3 4] [5 6 7 8 9]\n",
            "[0 1] [2 3] [4 5] [6 7] [8 9]\n"
          ]
        }
      ]
    },
    {
      "cell_type": "markdown",
      "metadata": {
        "id": "IvvdCQcKsCLn"
      },
      "source": [
        "* `vsplit()`: 수직 분할, 1차원으로 분할"
      ]
    },
    {
      "cell_type": "code",
      "metadata": {
        "id": "GdMYlsiLsCoe",
        "colab": {
          "base_uri": "https://localhost:8080/"
        },
        "outputId": "f6c19458-1733-4c0c-fa13-d9a6cf4463ac"
      },
      "source": [
        "a2=np.arange(1,10).reshape(3,3)\n",
        "print(a2)\n",
        "b2,c2=np.vsplit(a2,[2])\n",
        "print(b2)\n",
        "print(c2)"
      ],
      "execution_count": null,
      "outputs": [
        {
          "output_type": "stream",
          "name": "stdout",
          "text": [
            "[[1 2 3]\n",
            " [4 5 6]\n",
            " [7 8 9]]\n",
            "[[1 2 3]\n",
            " [4 5 6]]\n",
            "[[7 8 9]]\n"
          ]
        }
      ]
    },
    {
      "cell_type": "markdown",
      "metadata": {
        "id": "1aC0a034rSXi"
      },
      "source": [
        "* `hsplit()`: 수평 분할, 2차원으로 분할"
      ]
    },
    {
      "cell_type": "code",
      "metadata": {
        "id": "ShMnE_bnrSBJ",
        "colab": {
          "base_uri": "https://localhost:8080/"
        },
        "outputId": "d6b624a3-5c45-4771-f289-ea0b4372e411"
      },
      "source": [
        "a2=np.arange(1,10).reshape(3,3)\n",
        "print(a2)\n",
        "b2,c2=np.hsplit(a2,[2])\n",
        "print(b2)\n",
        "print(c2)"
      ],
      "execution_count": null,
      "outputs": [
        {
          "output_type": "stream",
          "name": "stdout",
          "text": [
            "[[1 2 3]\n",
            " [4 5 6]\n",
            " [7 8 9]]\n",
            "[[1 2]\n",
            " [4 5]\n",
            " [7 8]]\n",
            "[[3]\n",
            " [6]\n",
            " [9]]\n"
          ]
        }
      ]
    },
    {
      "cell_type": "markdown",
      "metadata": {
        "id": "Pz3BDD8qsQER"
      },
      "source": [
        "* `dsplit()`: 깊이 분할, 3차원으로 분할"
      ]
    },
    {
      "cell_type": "code",
      "metadata": {
        "id": "DqHFGd43sQYj",
        "colab": {
          "base_uri": "https://localhost:8080/"
        },
        "outputId": "df906e47-47c6-4f74-8aa5-ff4130134582"
      },
      "source": [
        "a3=np.arange(1,28).reshape(3,3,3)\n",
        "print(a3)\n",
        "b3,c3=np.dsplit(a3,[2])\n",
        "print(b3)\n",
        "print(c3)"
      ],
      "execution_count": null,
      "outputs": [
        {
          "output_type": "stream",
          "name": "stdout",
          "text": [
            "[[[ 1  2  3]\n",
            "  [ 4  5  6]\n",
            "  [ 7  8  9]]\n",
            "\n",
            " [[10 11 12]\n",
            "  [13 14 15]\n",
            "  [16 17 18]]\n",
            "\n",
            " [[19 20 21]\n",
            "  [22 23 24]\n",
            "  [25 26 27]]]\n",
            "[[[ 1  2]\n",
            "  [ 4  5]\n",
            "  [ 7  8]]\n",
            "\n",
            " [[10 11]\n",
            "  [13 14]\n",
            "  [16 17]]\n",
            "\n",
            " [[19 20]\n",
            "  [22 23]\n",
            "  [25 26]]]\n",
            "[[[ 3]\n",
            "  [ 6]\n",
            "  [ 9]]\n",
            "\n",
            " [[12]\n",
            "  [15]\n",
            "  [18]]\n",
            "\n",
            " [[21]\n",
            "  [24]\n",
            "  [27]]]\n"
          ]
        }
      ]
    },
    {
      "cell_type": "markdown",
      "metadata": {
        "id": "rK-zrDZuGoVd"
      },
      "source": [
        "\n",
        "\n",
        "---\n",
        "\n"
      ]
    },
    {
      "cell_type": "markdown",
      "metadata": {
        "id": "Vc-iSWewJ3C1"
      },
      "source": [
        "## 배열 연산\n",
        "\n",
        "* NumPy의 배열 연산은 벡터화(vectorized) 연산을 사용\n",
        "* 일반적으로 NumPy의 범용 함수(universal functions)를 통해 구현\n",
        "* 배열 요소에 대한 반복적인 계산을 효율적으로 수행"
      ]
    },
    {
      "cell_type": "markdown",
      "metadata": {
        "id": "Pg2er1A2w3cz"
      },
      "source": [
        "### 브로드캐스팅(Broadcasting)"
      ]
    },
    {
      "cell_type": "code",
      "metadata": {
        "id": "IGU-HRgr20nj",
        "colab": {
          "base_uri": "https://localhost:8080/"
        },
        "outputId": "f3a54467-875d-4f62-b31f-01672bb4fea9"
      },
      "source": [
        "a1=np.array([1,2,3])\n",
        "print(a1)\n",
        "print(a1+5)\n",
        "\n",
        "a2=np.arange(1,10).reshape(3,3)\n",
        "print(a2)\n",
        "print(a1+a2)\n",
        "\n",
        "b2=np.array([1,2,3]).reshape(3,1)\n",
        "print(b2)\n",
        "print(a1+b2)"
      ],
      "execution_count": null,
      "outputs": [
        {
          "output_type": "stream",
          "name": "stdout",
          "text": [
            "[1 2 3]\n",
            "[6 7 8]\n",
            "[[1 2 3]\n",
            " [4 5 6]\n",
            " [7 8 9]]\n",
            "[[ 2  4  6]\n",
            " [ 5  7  9]\n",
            " [ 8 10 12]]\n",
            "[[1]\n",
            " [2]\n",
            " [3]]\n",
            "[[2 3 4]\n",
            " [3 4 5]\n",
            " [4 5 6]]\n"
          ]
        }
      ]
    },
    {
      "cell_type": "markdown",
      "metadata": {
        "id": "NZzLHHLmwl_b"
      },
      "source": [
        "### 산술 연산(Arithmetic Operators)"
      ]
    },
    {
      "cell_type": "code",
      "metadata": {
        "id": "jHrIjHGEi05k",
        "colab": {
          "base_uri": "https://localhost:8080/"
        },
        "outputId": "6f2b42dc-9912-487f-9699-8e75a7866648"
      },
      "source": [
        "a1=np.arange(1,10)\n",
        "print(a1)\n",
        "print(a1+1)\n",
        "print(np.add(a1,10))\n",
        "print(a1-2)\n",
        "print(np.subtract(a1,10))\n",
        "print(-a1)\n",
        "print(np.negative(a1))\n",
        "print(a1*2)\n",
        "print(np.multiply(a1,2))\n",
        "print(a1/2)\n",
        "print(np.divide(a1,2))\n",
        "print(a1//2)\n",
        "print(np.floor_divide(a1,2))\n",
        "print(a1**2)\n",
        "print(np.power(a1,2))\n",
        "print(a1%2)\n",
        "print(np.mod(a1,2))"
      ],
      "execution_count": null,
      "outputs": [
        {
          "output_type": "stream",
          "name": "stdout",
          "text": [
            "[1 2 3 4 5 6 7 8 9]\n",
            "[ 2  3  4  5  6  7  8  9 10]\n",
            "[11 12 13 14 15 16 17 18 19]\n",
            "[-1  0  1  2  3  4  5  6  7]\n",
            "[-9 -8 -7 -6 -5 -4 -3 -2 -1]\n",
            "[-1 -2 -3 -4 -5 -6 -7 -8 -9]\n",
            "[-1 -2 -3 -4 -5 -6 -7 -8 -9]\n",
            "[ 2  4  6  8 10 12 14 16 18]\n",
            "[ 2  4  6  8 10 12 14 16 18]\n",
            "[0.5 1.  1.5 2.  2.5 3.  3.5 4.  4.5]\n",
            "[0.5 1.  1.5 2.  2.5 3.  3.5 4.  4.5]\n",
            "[0 1 1 2 2 3 3 4 4]\n",
            "[0 1 1 2 2 3 3 4 4]\n",
            "[ 1  4  9 16 25 36 49 64 81]\n",
            "[ 1  4  9 16 25 36 49 64 81]\n",
            "[1 0 1 0 1 0 1 0 1]\n",
            "[1 0 1 0 1 0 1 0 1]\n"
          ]
        }
      ]
    },
    {
      "cell_type": "code",
      "metadata": {
        "id": "sMUYzXk3psgC",
        "colab": {
          "base_uri": "https://localhost:8080/"
        },
        "outputId": "1e949158-b385-45f2-c059-048813e714c2"
      },
      "source": [
        "a1=np.arange(1,10)\n",
        "print(a1)\n",
        "b1=np.random.randint(1,10,size=9)\n",
        "print(b1)\n",
        "print(a1+b1)\n",
        "print(a1-b1)\n",
        "print(a1*b1)\n",
        "print(a1/b1)\n",
        "print(a1//b1)\n",
        "print(a1**b1)"
      ],
      "execution_count": null,
      "outputs": [
        {
          "output_type": "stream",
          "name": "stdout",
          "text": [
            "[1 2 3 4 5 6 7 8 9]\n",
            "[3 5 5 9 2 8 1 8 6]\n",
            "[ 4  7  8 13  7 14  8 16 15]\n",
            "[-2 -3 -2 -5  3 -2  6  0  3]\n",
            "[ 3 10 15 36 10 48  7 64 54]\n",
            "[0.33333333 0.4        0.6        0.44444444 2.5        0.75\n",
            " 7.         1.         1.5       ]\n",
            "[0 0 0 0 2 0 7 1 1]\n",
            "[       1       32      243   262144       25  1679616        7 16777216\n",
            "   531441]\n"
          ]
        }
      ]
    },
    {
      "cell_type": "code",
      "metadata": {
        "id": "ZkyjPmk5onPK",
        "colab": {
          "base_uri": "https://localhost:8080/"
        },
        "outputId": "dd4b2632-7c62-45ad-ef03-5a8208d4df55"
      },
      "source": [
        "a2=np.arange(1,10).reshape(3,3)\n",
        "print(a2)\n",
        "b2=np.random.randint(1,10,size=(3,3))\n",
        "print(b2)\n",
        "print(a2+b2)\n",
        "print(a2-b2)\n",
        "print(a2*b2)\n",
        "print(a2/b2)\n",
        "print(a2//b2)\n",
        "print(a2**b2)\n",
        "print(a2%b2)"
      ],
      "execution_count": null,
      "outputs": [
        {
          "output_type": "stream",
          "name": "stdout",
          "text": [
            "[[1 2 3]\n",
            " [4 5 6]\n",
            " [7 8 9]]\n",
            "[[8 3 8]\n",
            " [2 1 3]\n",
            " [4 9 1]]\n",
            "[[ 9  5 11]\n",
            " [ 6  6  9]\n",
            " [11 17 10]]\n",
            "[[-7 -1 -5]\n",
            " [ 2  4  3]\n",
            " [ 3 -1  8]]\n",
            "[[ 8  6 24]\n",
            " [ 8  5 18]\n",
            " [28 72  9]]\n",
            "[[0.125      0.66666667 0.375     ]\n",
            " [2.         5.         2.        ]\n",
            " [1.75       0.88888889 9.        ]]\n",
            "[[0 0 0]\n",
            " [2 5 2]\n",
            " [1 0 9]]\n",
            "[[        1         8      6561]\n",
            " [       16         5       216]\n",
            " [     2401 134217728         9]]\n",
            "[[1 2 3]\n",
            " [0 0 0]\n",
            " [3 8 0]]\n"
          ]
        }
      ]
    },
    {
      "cell_type": "markdown",
      "metadata": {
        "id": "hxG_aECas3a9"
      },
      "source": [
        "#### 절대값 함수(Absolute Function)\n",
        "\n",
        "* `absolute()`, `abs()`: 내장된 절대값 함수"
      ]
    },
    {
      "cell_type": "code",
      "metadata": {
        "id": "YmX-0LvWs7qM",
        "colab": {
          "base_uri": "https://localhost:8080/"
        },
        "outputId": "c42a9964-2d68-4edd-db93-80590625cefb"
      },
      "source": [
        "a1=np.random.randint(-10,10,size=5)\n",
        "print(a1)\n",
        "print(np.absolute(a1))"
      ],
      "execution_count": null,
      "outputs": [
        {
          "output_type": "stream",
          "name": "stdout",
          "text": [
            "[ 4 -3  0 -5  1]\n",
            "[4 3 0 5 1]\n"
          ]
        }
      ]
    },
    {
      "cell_type": "markdown",
      "metadata": {
        "id": "U5uE3sVtzRvA"
      },
      "source": [
        "#### 제곱/제곱근 함수\n",
        "\n",
        "* `square`, `sqrt`: 제곱, 제곱근 함수"
      ]
    },
    {
      "cell_type": "code",
      "metadata": {
        "id": "ggnIxDGzzTfX",
        "colab": {
          "base_uri": "https://localhost:8080/"
        },
        "outputId": "f6a7654b-a344-4b87-e055-d7bb4a5459fd"
      },
      "source": [
        "print(a1)\n",
        "print(np.square(a1))\n",
        "print(np.sqrt(a1))"
      ],
      "execution_count": null,
      "outputs": [
        {
          "output_type": "stream",
          "name": "stdout",
          "text": [
            "[ 4 -3  0 -5  1]\n",
            "[16  9  0 25  1]\n",
            "[ 2. nan  0. nan  1.]\n"
          ]
        },
        {
          "output_type": "stream",
          "name": "stderr",
          "text": [
            "/usr/local/lib/python3.7/dist-packages/ipykernel_launcher.py:3: RuntimeWarning: invalid value encountered in sqrt\n",
            "  This is separate from the ipykernel package so we can avoid doing imports until\n"
          ]
        }
      ]
    },
    {
      "cell_type": "markdown",
      "metadata": {
        "id": "tWh1aQ50vRhB"
      },
      "source": [
        "#### 지수와 로그 함수 (Exponential and Log Function)"
      ]
    },
    {
      "cell_type": "code",
      "metadata": {
        "id": "Dygt3AyHvTZz",
        "colab": {
          "base_uri": "https://localhost:8080/"
        },
        "outputId": "14eb9c1f-133e-4074-97fc-1d3bff0d5e7d"
      },
      "source": [
        "a1=np.random.randint(1,10,size=5)\n",
        "print(a1)\n",
        "print(np.exp(a1))\n",
        "print(np.exp2(a1))\n",
        "print(np.power(a1,2))"
      ],
      "execution_count": null,
      "outputs": [
        {
          "output_type": "stream",
          "name": "stdout",
          "text": [
            "[5 2 4 9 1]\n",
            "[1.48413159e+02 7.38905610e+00 5.45981500e+01 8.10308393e+03\n",
            " 2.71828183e+00]\n",
            "[ 32.   4.  16. 512.   2.]\n",
            "[25  4 16 81  1]\n"
          ]
        }
      ]
    },
    {
      "cell_type": "code",
      "metadata": {
        "id": "YB0BzwxDvnkT",
        "colab": {
          "base_uri": "https://localhost:8080/"
        },
        "outputId": "4cfe1e77-c156-4263-fa3e-b09b50ed2e8a"
      },
      "source": [
        "print(a1)\n",
        "print(np.log(a1))\n",
        "print(np.log2(a1))\n",
        "print(np.log10(a1))"
      ],
      "execution_count": null,
      "outputs": [
        {
          "output_type": "stream",
          "name": "stdout",
          "text": [
            "[5 2 4 9 1]\n",
            "[1.60943791 0.69314718 1.38629436 2.19722458 0.        ]\n",
            "[2.32192809 1.         2.         3.169925   0.        ]\n",
            "[0.69897    0.30103    0.60205999 0.95424251 0.        ]\n"
          ]
        }
      ]
    },
    {
      "cell_type": "markdown",
      "metadata": {
        "id": "wE_p9AxjtdJ9"
      },
      "source": [
        "#### 삼각 함수(Trigonometrical Function)\n"
      ]
    },
    {
      "cell_type": "code",
      "metadata": {
        "id": "6bOSPS81tuo5",
        "colab": {
          "base_uri": "https://localhost:8080/"
        },
        "outputId": "d3d6faa7-20b6-4ab9-f47b-40591ffdd73a"
      },
      "source": [
        "t=np.linspace(0,np.pi,3)\n",
        "print(t)\n",
        "print(np.sin(t))\n",
        "print(np.cos(t))\n",
        "print(np.tan(t))"
      ],
      "execution_count": null,
      "outputs": [
        {
          "output_type": "stream",
          "name": "stdout",
          "text": [
            "[0.         1.57079633 3.14159265]\n",
            "[0.0000000e+00 1.0000000e+00 1.2246468e-16]\n",
            "[ 1.000000e+00  6.123234e-17 -1.000000e+00]\n",
            "[ 0.00000000e+00  1.63312394e+16 -1.22464680e-16]\n"
          ]
        }
      ]
    },
    {
      "cell_type": "code",
      "metadata": {
        "id": "v7m-AQW9uJ9u",
        "colab": {
          "base_uri": "https://localhost:8080/"
        },
        "outputId": "4bdfb3ad-0a9f-44c0-e1ea-5f7ab39ca73a"
      },
      "source": [
        "x=[-1,0,1]\n",
        "print(x)\n",
        "print(np.arcsin(x))\n",
        "print(np.arccos(x))\n",
        "print(np.arctan(x))"
      ],
      "execution_count": null,
      "outputs": [
        {
          "output_type": "stream",
          "name": "stdout",
          "text": [
            "[-1, 0, 1]\n",
            "[-1.57079633  0.          1.57079633]\n",
            "[3.14159265 1.57079633 0.        ]\n",
            "[-0.78539816  0.          0.78539816]\n"
          ]
        }
      ]
    },
    {
      "cell_type": "markdown",
      "metadata": {
        "id": "hKJtYUVWwxQy"
      },
      "source": [
        "### 집계 함수(Aggregate Functions)"
      ]
    },
    {
      "cell_type": "markdown",
      "metadata": {
        "id": "GdxMrX5l9m6W"
      },
      "source": [
        "#### sum(): 합 계산"
      ]
    },
    {
      "cell_type": "code",
      "metadata": {
        "id": "AJQ3GjLI0cZU",
        "colab": {
          "base_uri": "https://localhost:8080/"
        },
        "outputId": "ab43b857-8451-4856-94aa-f45d268e6e56"
      },
      "source": [
        "a2=np.random.randint(1,10,size=(3,3))\n",
        "print(a2)\n",
        "print(a2.sum(),np.sum(a2))\n",
        "print(a2.sum(axis=0),np.sum(a2, axis=0))\n",
        "print(a2.sum(axis=1),np.sum(a2, axis=1))"
      ],
      "execution_count": 3,
      "outputs": [
        {
          "output_type": "stream",
          "name": "stdout",
          "text": [
            "[[2 2 6]\n",
            " [7 4 2]\n",
            " [2 4 3]]\n",
            "32 32\n",
            "[11 10 11] [11 10 11]\n",
            "[10 13  9] [10 13  9]\n"
          ]
        }
      ]
    },
    {
      "cell_type": "markdown",
      "metadata": {
        "id": "U4W4iIb9J4Zd"
      },
      "source": [
        "#### cumsum(): 누적합 계산"
      ]
    },
    {
      "cell_type": "code",
      "metadata": {
        "id": "SRZWZD3UJ4wo",
        "colab": {
          "base_uri": "https://localhost:8080/"
        },
        "outputId": "b289f3d7-cb1e-42f3-d232-509bd8466818"
      },
      "source": [
        "print(a2)\n",
        "print(a2.cumsum())\n",
        "print(a2.cumsum(axis=0))\n",
        "print(a2.cumsum(axis=1))"
      ],
      "execution_count": null,
      "outputs": [
        {
          "output_type": "stream",
          "name": "stdout",
          "text": [
            "[[5 1 7]\n",
            " [4 9 2]\n",
            " [4 3 7]]\n",
            "[ 5  6 13 17 26 28 32 35 42]\n",
            "[[ 5  1  7]\n",
            " [ 9 10  9]\n",
            " [13 13 16]]\n",
            "[[ 5  6 13]\n",
            " [ 4 13 15]\n",
            " [ 4  7 14]]\n"
          ]
        }
      ]
    },
    {
      "cell_type": "markdown",
      "metadata": {
        "id": "pVaJRWQ-LV0f"
      },
      "source": [
        "#### diff(): 차분 계산"
      ]
    },
    {
      "cell_type": "code",
      "metadata": {
        "id": "yKjnWtGVLWJj",
        "colab": {
          "base_uri": "https://localhost:8080/"
        },
        "outputId": "8066998f-ebb6-464a-9db4-2410e4e819c0"
      },
      "source": [
        "print(a2)\n",
        "print(np.diff(a2))\n",
        "print(np.diff(a2,axis=0))\n",
        "print(np.diff(a2,axis=1))"
      ],
      "execution_count": null,
      "outputs": [
        {
          "output_type": "stream",
          "name": "stdout",
          "text": [
            "[[5 1 7]\n",
            " [4 9 2]\n",
            " [4 3 7]]\n",
            "[[-4  6]\n",
            " [ 5 -7]\n",
            " [-1  4]]\n",
            "[[-1  8 -5]\n",
            " [ 0 -6  5]]\n",
            "[[-4  6]\n",
            " [ 5 -7]\n",
            " [-1  4]]\n"
          ]
        }
      ]
    },
    {
      "cell_type": "markdown",
      "metadata": {
        "id": "b6I38HfA9vGL"
      },
      "source": [
        "#### prod(): 곱 계산"
      ]
    },
    {
      "cell_type": "code",
      "metadata": {
        "id": "rGPMXGe89y0O",
        "colab": {
          "base_uri": "https://localhost:8080/"
        },
        "outputId": "04f5491c-94a6-4863-9cde-96251d84b6b2"
      },
      "source": [
        "print(a2)\n",
        "print(np.prod(a2))\n",
        "print(np.prod(a2,axis=0))\n",
        "print(np.prod(a2,axis=1))"
      ],
      "execution_count": null,
      "outputs": [
        {
          "output_type": "stream",
          "name": "stdout",
          "text": [
            "[[5 1 7]\n",
            " [4 9 2]\n",
            " [4 3 7]]\n",
            "211680\n",
            "[80 27 98]\n",
            "[35 72 84]\n"
          ]
        }
      ]
    },
    {
      "cell_type": "markdown",
      "metadata": {
        "id": "RwaoVUGcKkkE"
      },
      "source": [
        "#### cumprod(): 누적곱 계산"
      ]
    },
    {
      "cell_type": "code",
      "metadata": {
        "id": "jwYoX9inKk4D",
        "colab": {
          "base_uri": "https://localhost:8080/"
        },
        "outputId": "0c150ff9-187d-4a5e-944f-42717d61aa95"
      },
      "source": [
        "print(a2)\n",
        "print(np.cumprod(a2))\n",
        "print(np.cumprod(a2,axis=0))\n",
        "print(np.cumprod(a2,axis=1))"
      ],
      "execution_count": null,
      "outputs": [
        {
          "output_type": "stream",
          "name": "stdout",
          "text": [
            "[[5 1 7]\n",
            " [4 9 2]\n",
            " [4 3 7]]\n",
            "[     5      5     35    140   1260   2520  10080  30240 211680]\n",
            "[[ 5  1  7]\n",
            " [20  9 14]\n",
            " [80 27 98]]\n",
            "[[ 5  5 35]\n",
            " [ 4 36 72]\n",
            " [ 4 12 84]]\n"
          ]
        }
      ]
    },
    {
      "cell_type": "markdown",
      "metadata": {
        "id": "_LMAbL9hMV7T"
      },
      "source": [
        "#### dot()/matmul(): 점곱/행렬곱 계산"
      ]
    },
    {
      "cell_type": "code",
      "metadata": {
        "id": "xC6FBzF0MWW1",
        "colab": {
          "base_uri": "https://localhost:8080/"
        },
        "outputId": "9671e617-a4e2-4a9d-f933-68e50ba32cca"
      },
      "source": [
        "print(a2)\n",
        "b2=np.ones_like(a2)\n",
        "print(b2)\n",
        "print(np.dot(a2,b2))\n",
        "print(np.matmul(a2,b2))"
      ],
      "execution_count": null,
      "outputs": [
        {
          "output_type": "stream",
          "name": "stdout",
          "text": [
            "[[5 1 7]\n",
            " [4 9 2]\n",
            " [4 3 7]]\n",
            "[[1 1 1]\n",
            " [1 1 1]\n",
            " [1 1 1]]\n",
            "[[13 13 13]\n",
            " [15 15 15]\n",
            " [14 14 14]]\n",
            "[[13 13 13]\n",
            " [15 15 15]\n",
            " [14 14 14]]\n"
          ]
        }
      ]
    },
    {
      "cell_type": "markdown",
      "metadata": {
        "id": "juVk3vnjPu31"
      },
      "source": [
        "#### tensordot(): 텐서곱 계산"
      ]
    },
    {
      "cell_type": "code",
      "metadata": {
        "id": "3LrcLOcjPvNI",
        "colab": {
          "base_uri": "https://localhost:8080/"
        },
        "outputId": "e74e6ab6-e003-4d2f-bb88-1db1dc8b3e08"
      },
      "source": [
        "print(a2)\n",
        "print(b2)\n",
        "print(np.tensordot(a2,b2))\n",
        "print(np.tensordot(a2,b2,axes=0))\n",
        "print(np.tensordot(a2,b2,axes=1))"
      ],
      "execution_count": null,
      "outputs": [
        {
          "output_type": "stream",
          "name": "stdout",
          "text": [
            "[[5 1 7]\n",
            " [4 9 2]\n",
            " [4 3 7]]\n",
            "[[1 1 1]\n",
            " [1 1 1]\n",
            " [1 1 1]]\n",
            "42\n",
            "[[[[5 5 5]\n",
            "   [5 5 5]\n",
            "   [5 5 5]]\n",
            "\n",
            "  [[1 1 1]\n",
            "   [1 1 1]\n",
            "   [1 1 1]]\n",
            "\n",
            "  [[7 7 7]\n",
            "   [7 7 7]\n",
            "   [7 7 7]]]\n",
            "\n",
            "\n",
            " [[[4 4 4]\n",
            "   [4 4 4]\n",
            "   [4 4 4]]\n",
            "\n",
            "  [[9 9 9]\n",
            "   [9 9 9]\n",
            "   [9 9 9]]\n",
            "\n",
            "  [[2 2 2]\n",
            "   [2 2 2]\n",
            "   [2 2 2]]]\n",
            "\n",
            "\n",
            " [[[4 4 4]\n",
            "   [4 4 4]\n",
            "   [4 4 4]]\n",
            "\n",
            "  [[3 3 3]\n",
            "   [3 3 3]\n",
            "   [3 3 3]]\n",
            "\n",
            "  [[7 7 7]\n",
            "   [7 7 7]\n",
            "   [7 7 7]]]]\n",
            "[[13 13 13]\n",
            " [15 15 15]\n",
            " [14 14 14]]\n"
          ]
        }
      ]
    },
    {
      "cell_type": "markdown",
      "metadata": {
        "id": "UzmZhB5TNRMX"
      },
      "source": [
        "#### cross(): 벡터곱"
      ]
    },
    {
      "cell_type": "code",
      "metadata": {
        "id": "xvT2hy1FNRkU",
        "colab": {
          "base_uri": "https://localhost:8080/"
        },
        "outputId": "0c058798-352b-427c-e761-c94c33a285e1"
      },
      "source": [
        "x=[1,2,3]\n",
        "y=[4,5,6]\n",
        "print(np.cross(x,y))"
      ],
      "execution_count": null,
      "outputs": [
        {
          "output_type": "stream",
          "name": "stdout",
          "text": [
            "[-3  6 -3]\n"
          ]
        }
      ]
    },
    {
      "cell_type": "markdown",
      "metadata": {
        "id": "SJVYmtrSO5YL"
      },
      "source": [
        "#### inner()/outer(): 내적/외적"
      ]
    },
    {
      "cell_type": "code",
      "metadata": {
        "id": "HJpomax7O5s6",
        "colab": {
          "base_uri": "https://localhost:8080/"
        },
        "outputId": "b5066a83-1429-45f5-f093-364b806734e7"
      },
      "source": [
        "print(a2)\n",
        "print(b2)\n",
        "print(np.inner(a2,b2))\n",
        "print(np.outer(a2,b2))"
      ],
      "execution_count": null,
      "outputs": [
        {
          "output_type": "stream",
          "name": "stdout",
          "text": [
            "[[5 1 7]\n",
            " [4 9 2]\n",
            " [4 3 7]]\n",
            "[[1 1 1]\n",
            " [1 1 1]\n",
            " [1 1 1]]\n",
            "[[13 13 13]\n",
            " [15 15 15]\n",
            " [14 14 14]]\n",
            "[[5 5 5 5 5 5 5 5 5]\n",
            " [1 1 1 1 1 1 1 1 1]\n",
            " [7 7 7 7 7 7 7 7 7]\n",
            " [4 4 4 4 4 4 4 4 4]\n",
            " [9 9 9 9 9 9 9 9 9]\n",
            " [2 2 2 2 2 2 2 2 2]\n",
            " [4 4 4 4 4 4 4 4 4]\n",
            " [3 3 3 3 3 3 3 3 3]\n",
            " [7 7 7 7 7 7 7 7 7]]\n"
          ]
        }
      ]
    },
    {
      "cell_type": "markdown",
      "metadata": {
        "id": "9CIotQgI_RQ-"
      },
      "source": [
        "#### mean(): 평균 계산"
      ]
    },
    {
      "cell_type": "code",
      "metadata": {
        "id": "g96wAEOT_bUk",
        "colab": {
          "base_uri": "https://localhost:8080/"
        },
        "outputId": "91a73db8-ba49-4805-a286-f64613c0c119"
      },
      "source": [
        "print(a2)\n",
        "print(np.mean(a2))\n",
        "print(np.mean(a2, axis=0))\n",
        "print(np.mean(a2, axis=1))"
      ],
      "execution_count": 4,
      "outputs": [
        {
          "output_type": "stream",
          "name": "stdout",
          "text": [
            "[[2 2 6]\n",
            " [7 4 2]\n",
            " [2 4 3]]\n",
            "3.5555555555555554\n",
            "[3.66666667 3.33333333 3.66666667]\n",
            "[3.33333333 4.33333333 3.        ]\n"
          ]
        }
      ]
    },
    {
      "cell_type": "markdown",
      "metadata": {
        "id": "wAG_zijP_Z5o"
      },
      "source": [
        "#### std(): 표준 편차 계산"
      ]
    },
    {
      "cell_type": "code",
      "metadata": {
        "id": "hlpnuyug_TXA",
        "colab": {
          "base_uri": "https://localhost:8080/"
        },
        "outputId": "5d5691f1-baa9-41bb-8d48-6d9901e74f42"
      },
      "source": [
        "print(a2)\n",
        "print(np.std(a2))\n",
        "print(np.std(a2, axis=0))\n",
        "print(np.std(a2, axis=1))"
      ],
      "execution_count": 5,
      "outputs": [
        {
          "output_type": "stream",
          "name": "stdout",
          "text": [
            "[[2 2 6]\n",
            " [7 4 2]\n",
            " [2 4 3]]\n",
            "1.7708197167232473\n",
            "[2.3570226  0.94280904 1.69967317]\n",
            "[1.88561808 2.05480467 0.81649658]\n"
          ]
        }
      ]
    },
    {
      "cell_type": "markdown",
      "metadata": {
        "id": "5FFTCCDaAEhx"
      },
      "source": [
        "#### var(): 분산 계산"
      ]
    },
    {
      "cell_type": "code",
      "metadata": {
        "id": "CRMNkSdzAGZG",
        "colab": {
          "base_uri": "https://localhost:8080/"
        },
        "outputId": "979b9b8c-4790-4290-f281-0d9d77b5588e"
      },
      "source": [
        "print(a2)\n",
        "print(np.var(a2))\n",
        "print(np.var(a2, axis=0))\n",
        "print(np.var(a2, axis=1))"
      ],
      "execution_count": 6,
      "outputs": [
        {
          "output_type": "stream",
          "name": "stdout",
          "text": [
            "[[2 2 6]\n",
            " [7 4 2]\n",
            " [2 4 3]]\n",
            "3.135802469135802\n",
            "[5.55555556 0.88888889 2.88888889]\n",
            "[3.55555556 4.22222222 0.66666667]\n"
          ]
        }
      ]
    },
    {
      "cell_type": "markdown",
      "metadata": {
        "id": "QFeh-4tmCCrU"
      },
      "source": [
        "#### min(): 최소값"
      ]
    },
    {
      "cell_type": "code",
      "metadata": {
        "id": "SMNCfYBQCEtf",
        "colab": {
          "base_uri": "https://localhost:8080/"
        },
        "outputId": "f2efeeb4-29ad-4f80-9ec8-962e0ac488e6"
      },
      "source": [
        "print(a2)\n",
        "print(np.min(a2))\n",
        "print(np.min(a2, axis=0))\n",
        "print(np.min(a2, axis=1))"
      ],
      "execution_count": 7,
      "outputs": [
        {
          "output_type": "stream",
          "name": "stdout",
          "text": [
            "[[2 2 6]\n",
            " [7 4 2]\n",
            " [2 4 3]]\n",
            "2\n",
            "[2 2 2]\n",
            "[2 2 2]\n"
          ]
        }
      ]
    },
    {
      "cell_type": "markdown",
      "metadata": {
        "id": "A3n_JBnBJ2bo"
      },
      "source": [
        "#### max(): 최대값"
      ]
    },
    {
      "cell_type": "code",
      "metadata": {
        "id": "FmuOFKGAJ6Pf",
        "colab": {
          "base_uri": "https://localhost:8080/"
        },
        "outputId": "0ac8fc12-b14f-43b3-d979-30472441f73b"
      },
      "source": [
        "print(a2)\n",
        "print(np.max(a2))\n",
        "print(np.max(a2, axis=0))\n",
        "print(np.max(a2, axis=1))"
      ],
      "execution_count": 8,
      "outputs": [
        {
          "output_type": "stream",
          "name": "stdout",
          "text": [
            "[[2 2 6]\n",
            " [7 4 2]\n",
            " [2 4 3]]\n",
            "7\n",
            "[7 4 6]\n",
            "[6 7 4]\n"
          ]
        }
      ]
    },
    {
      "cell_type": "markdown",
      "metadata": {
        "id": "PvGOKDP0J_5b"
      },
      "source": [
        "#### argmin(): 최소값 인덱스"
      ]
    },
    {
      "cell_type": "code",
      "metadata": {
        "id": "1ILP7L3yKCqA",
        "colab": {
          "base_uri": "https://localhost:8080/"
        },
        "outputId": "c82282c4-655b-4a38-a7d3-ddc926a07d78"
      },
      "source": [
        "print(a2)\n",
        "print(np.argmin(a2))\n",
        "print(np.argmin(a2, axis=0))\n",
        "print(np.argmin(a2, axis=1))"
      ],
      "execution_count": 9,
      "outputs": [
        {
          "output_type": "stream",
          "name": "stdout",
          "text": [
            "[[2 2 6]\n",
            " [7 4 2]\n",
            " [2 4 3]]\n",
            "0\n",
            "[0 0 1]\n",
            "[0 2 0]\n"
          ]
        }
      ]
    },
    {
      "cell_type": "markdown",
      "metadata": {
        "id": "23IcSctIKbUa"
      },
      "source": [
        "#### argmax(): 최대값 인덱스"
      ]
    },
    {
      "cell_type": "code",
      "metadata": {
        "id": "2m21cfCFKd-Q",
        "colab": {
          "base_uri": "https://localhost:8080/"
        },
        "outputId": "64d87129-3273-4478-d9f9-0f32cbc22d8a"
      },
      "source": [
        "print(a2)\n",
        "print(np.argmax(a2))\n",
        "print(np.argmax(a2, axis=0))\n",
        "print(np.argmax(a2, axis=1))"
      ],
      "execution_count": 10,
      "outputs": [
        {
          "output_type": "stream",
          "name": "stdout",
          "text": [
            "[[2 2 6]\n",
            " [7 4 2]\n",
            " [2 4 3]]\n",
            "3\n",
            "[1 1 0]\n",
            "[2 0 1]\n"
          ]
        }
      ]
    },
    {
      "cell_type": "markdown",
      "metadata": {
        "id": "3TjeNFQLKuZb"
      },
      "source": [
        "#### median(): 중앙값"
      ]
    },
    {
      "cell_type": "code",
      "source": [
        ""
      ],
      "metadata": {
        "id": "B0VLDDtwhHvY"
      },
      "execution_count": null,
      "outputs": []
    },
    {
      "cell_type": "code",
      "metadata": {
        "id": "kSLN17bpKwv6",
        "colab": {
          "base_uri": "https://localhost:8080/"
        },
        "outputId": "b167c538-a453-488c-acb6-5054ff925024"
      },
      "source": [
        "print(a2)\n",
        "print(np.median(a2))\n",
        "print(np.median(a2, axis=0))\n",
        "print(np.median(a2, axis=1))"
      ],
      "execution_count": 11,
      "outputs": [
        {
          "output_type": "stream",
          "name": "stdout",
          "text": [
            "[[2 2 6]\n",
            " [7 4 2]\n",
            " [2 4 3]]\n",
            "3.0\n",
            "[2. 4. 3.]\n",
            "[2. 4. 3.]\n"
          ]
        }
      ]
    },
    {
      "cell_type": "markdown",
      "metadata": {
        "id": "df-Id-nhLs3L"
      },
      "source": [
        "#### percentile(): 백분위 수\n",
        "\n"
      ]
    },
    {
      "cell_type": "code",
      "metadata": {
        "id": "N-TCx9hnLvhK",
        "colab": {
          "base_uri": "https://localhost:8080/"
        },
        "outputId": "b926170f-5226-4df7-ab45-6c3b23cc786c"
      },
      "source": [
        "a1=np.array([0,1,2,3])\n",
        "print(a1)\n",
        "print(np.percentile(a1,[0,20,40,60,80,100], interpolation='linear'))\n",
        "print(np.percentile(a1,[0,20,40,60,80,100], interpolation='higher'))\n",
        "print(np.percentile(a1,[0,20,40,60,80,100], interpolation='lower'))\n",
        "print(np.percentile(a1,[0,20,40,60,80,100], interpolation='nearest'))\n",
        "print(np.percentile(a1,[0,20,40,60,80,100], interpolation='midpoint'))"
      ],
      "execution_count": 12,
      "outputs": [
        {
          "output_type": "stream",
          "name": "stdout",
          "text": [
            "[0 1 2 3]\n",
            "[0.  0.6 1.2 1.8 2.4 3. ]\n",
            "[0 1 2 2 3 3]\n",
            "[0 0 1 1 2 3]\n",
            "[0 1 1 2 2 3]\n",
            "[0.  0.5 1.5 1.5 2.5 3. ]\n"
          ]
        }
      ]
    },
    {
      "cell_type": "markdown",
      "metadata": {
        "id": "x0NnNsvvNDIs"
      },
      "source": [
        "#### any()"
      ]
    },
    {
      "cell_type": "code",
      "metadata": {
        "id": "I1XDqsFxOMvA",
        "colab": {
          "base_uri": "https://localhost:8080/"
        },
        "outputId": "d46f15d8-a6a9-42d7-ae84-626a5ddf6dc3"
      },
      "source": [
        "a2=np.array([[False,False,False],[False,True,True],[False,True,False]])\n",
        "print(a2)\n",
        "print(np.any(a2))\n",
        "print(np.any(a2,axis=0))\n",
        "print(np.any(a2,axis=1))"
      ],
      "execution_count": 13,
      "outputs": [
        {
          "output_type": "stream",
          "name": "stdout",
          "text": [
            "[[False False False]\n",
            " [False  True  True]\n",
            " [False  True False]]\n",
            "True\n",
            "[False  True  True]\n",
            "[False  True  True]\n"
          ]
        }
      ]
    },
    {
      "cell_type": "markdown",
      "metadata": {
        "id": "Uw-wjYgyONBZ"
      },
      "source": [
        "#### all()"
      ]
    },
    {
      "cell_type": "code",
      "metadata": {
        "id": "sXi2AHOHONYq",
        "colab": {
          "base_uri": "https://localhost:8080/"
        },
        "outputId": "e59443ff-1a81-4b6b-ea63-3a1ddd21dc06"
      },
      "source": [
        "a2=np.array([[False,False,False],[False,True,True],[False,True,False]])\n",
        "print(a2)\n",
        "print(np.all(a2))\n",
        "print(np.all(a2,axis=0))\n",
        "print(np.all(a2,axis=1))"
      ],
      "execution_count": 14,
      "outputs": [
        {
          "output_type": "stream",
          "name": "stdout",
          "text": [
            "[[False False False]\n",
            " [False  True  True]\n",
            " [False  True False]]\n",
            "False\n",
            "[False False False]\n",
            "[False False False]\n"
          ]
        }
      ]
    },
    {
      "cell_type": "markdown",
      "metadata": {
        "id": "0n7lgzmUwqr1"
      },
      "source": [
        "### 비교 연산(Comparison Operators)\n"
      ]
    },
    {
      "cell_type": "code",
      "metadata": {
        "id": "E00V-nBTVnCu",
        "colab": {
          "base_uri": "https://localhost:8080/"
        },
        "outputId": "23acb1b5-0992-48b1-8152-ab0d9e405915"
      },
      "source": [
        "a1=np.arange(1,10)\n",
        "print(a1)\n",
        "print(a1==5)\n",
        "print(a1!=5)\n",
        "print(a1>5)"
      ],
      "execution_count": 17,
      "outputs": [
        {
          "output_type": "stream",
          "name": "stdout",
          "text": [
            "[1 2 3 4 5 6 7 8 9]\n",
            "[False False False False  True False False False False]\n",
            "[ True  True  True  True False  True  True  True  True]\n",
            "[False False False False False  True  True  True  True]\n"
          ]
        }
      ]
    },
    {
      "cell_type": "code",
      "metadata": {
        "id": "3MwV1CU1WsWS",
        "colab": {
          "base_uri": "https://localhost:8080/"
        },
        "outputId": "c9cd184d-9efe-410f-a5e1-d82d2eac351e"
      },
      "source": [
        "a2=np.arange(1,10).reshape(3,3)\n",
        "print(a2)\n",
        "print(np.sum(a2))\n",
        "print(np.count_nonzero(a2>5))\n",
        "print(np.sum(a2>5,axis=0))\n",
        "print(np.sum(a2>5,axis=1))\n",
        "print(np.any(a2>5, axis=0))\n",
        "print(np.all(a2>5, axis=0))"
      ],
      "execution_count": 22,
      "outputs": [
        {
          "output_type": "stream",
          "name": "stdout",
          "text": [
            "[[1 2 3]\n",
            " [4 5 6]\n",
            " [7 8 9]]\n",
            "45\n",
            "4\n",
            "[1 1 2]\n",
            "[0 1 3]\n",
            "[ True  True  True]\n",
            "[False False False]\n"
          ]
        }
      ]
    },
    {
      "cell_type": "code",
      "metadata": {
        "id": "D4cuMoyEPn8R",
        "colab": {
          "base_uri": "https://localhost:8080/"
        },
        "outputId": "57c1acb4-8ba5-4c5f-b562-025d7a16844f"
      },
      "source": [
        "a1=np.array([1,2,3,4,5])\n",
        "b1=np.array([1,2,3,3,4])\n",
        "print(np.isclose(a1,b1))"
      ],
      "execution_count": 23,
      "outputs": [
        {
          "output_type": "stream",
          "name": "stdout",
          "text": [
            "[ True  True  True False False]\n"
          ]
        }
      ]
    },
    {
      "cell_type": "code",
      "metadata": {
        "id": "af9VSc6FyMBh",
        "colab": {
          "base_uri": "https://localhost:8080/"
        },
        "outputId": "d6d59239-a849-4a2f-af6b-096e278e47a0"
      },
      "source": [
        "a1=np.array([np.nan,2,np.inf,4,np.NINF])\n",
        "print(a1)\n",
        "print(np.isnan(a1))\n",
        "print(np.isinf(a1))\n",
        "print(np.isfinite(a1))"
      ],
      "execution_count": 26,
      "outputs": [
        {
          "output_type": "stream",
          "name": "stdout",
          "text": [
            "[ nan   2.  inf   4. -inf]\n",
            "[ True False False False False]\n",
            "[False False  True False  True]\n",
            "[False  True False  True False]\n"
          ]
        }
      ]
    },
    {
      "cell_type": "markdown",
      "metadata": {
        "id": "4BHMetMlYmt-"
      },
      "source": [
        "#### 불리언 연산자(Boolean Operators)\n"
      ]
    },
    {
      "cell_type": "code",
      "metadata": {
        "id": "ZV1-8DkUHOZq",
        "colab": {
          "base_uri": "https://localhost:8080/"
        },
        "outputId": "068bf4ca-aea4-40d2-c182-de211de758aa"
      },
      "source": [
        "a2=np.arange(1,10).reshape(3,3)\n",
        "print(a2)\n",
        "\n",
        "print((a2>5)&(a2<8))\n",
        "print(a2[(a2>5)&(a2<8)])\n",
        "\n",
        "print((a2>5)|(a2<8))\n",
        "print(a2[(a2>5)|(a2<8)])\n",
        "\n",
        "print((a2>5)^(a2<8))\n",
        "print(a2[(a2>5)^(a2<8)])\n",
        "\n",
        "print(~(a2>5)&(a2<8))\n",
        "print(a2[~(a2>5)&(a2<8)])"
      ],
      "execution_count": 31,
      "outputs": [
        {
          "output_type": "stream",
          "name": "stdout",
          "text": [
            "[[1 2 3]\n",
            " [4 5 6]\n",
            " [7 8 9]]\n",
            "[[False False False]\n",
            " [False False  True]\n",
            " [ True False False]]\n",
            "[6 7]\n",
            "[[ True  True  True]\n",
            " [ True  True  True]\n",
            " [ True  True  True]]\n",
            "[1 2 3 4 5 6 7 8 9]\n",
            "[[ True  True  True]\n",
            " [ True  True False]\n",
            " [False  True  True]]\n",
            "[1 2 3 4 5 8 9]\n",
            "[[ True  True  True]\n",
            " [ True  True False]\n",
            " [False False False]]\n",
            "[1 2 3 4 5]\n"
          ]
        }
      ]
    },
    {
      "cell_type": "markdown",
      "metadata": {
        "id": "FlQJVeGBxIFw"
      },
      "source": [
        "### 배열 정렬"
      ]
    },
    {
      "cell_type": "code",
      "metadata": {
        "id": "x0sodUMqLU37",
        "colab": {
          "base_uri": "https://localhost:8080/"
        },
        "outputId": "6f910a5d-f47b-4242-9669-dc50678ea465"
      },
      "source": [
        "a1=np.random.randint(1,10,size=10)\n",
        "print(a1)\n",
        "print(np.sort(a1))\n",
        "print(np.argsort(a1))\n",
        "print(a1)\n",
        "print(a1.sort())\n",
        "print(a1)"
      ],
      "execution_count": 33,
      "outputs": [
        {
          "output_type": "stream",
          "name": "stdout",
          "text": [
            "[3 8 3 3 5 7 3 3 2 9]\n",
            "[2 3 3 3 3 3 5 7 8 9]\n",
            "[8 0 2 3 6 7 4 5 1 9]\n",
            "[3 8 3 3 5 7 3 3 2 9]\n",
            "None\n",
            "[2 3 3 3 3 3 5 7 8 9]\n"
          ]
        }
      ]
    },
    {
      "cell_type": "code",
      "metadata": {
        "id": "FO_sO5POzeMp",
        "colab": {
          "base_uri": "https://localhost:8080/"
        },
        "outputId": "ea253cb4-a9c5-4dfe-f9fe-826ba0916fff"
      },
      "source": [
        "a2=np.random.randint(1,10,size=(3,3))\n",
        "print(a2)\n",
        "print(a2.sort())\n",
        "print(a2)"
      ],
      "execution_count": 35,
      "outputs": [
        {
          "output_type": "stream",
          "name": "stdout",
          "text": [
            "[[5 9 1]\n",
            " [6 1 8]\n",
            " [5 3 4]]\n",
            "None\n",
            "[[1 5 9]\n",
            " [1 6 8]\n",
            " [3 4 5]]\n"
          ]
        }
      ]
    },
    {
      "cell_type": "markdown",
      "metadata": {
        "id": "yYSItPz_00sZ"
      },
      "source": [
        "#### 부분 정렬\n",
        "\n",
        "* `partition()`: 배열에서 k개의 작은 값을 반환"
      ]
    },
    {
      "cell_type": "code",
      "metadata": {
        "id": "QQwov4N00YFP",
        "colab": {
          "base_uri": "https://localhost:8080/"
        },
        "outputId": "2058c9c9-f2ab-456d-c4f0-956ae090f36b"
      },
      "source": [
        "a1=np.random.randint(1,10,size=10)\n",
        "print(a1)\n",
        "print(np.partition(a1,3))"
      ],
      "execution_count": 36,
      "outputs": [
        {
          "output_type": "stream",
          "name": "stdout",
          "text": [
            "[4 1 8 2 9 6 2 4 4 7]\n",
            "[1 2 2 4 4 6 4 7 8 9]\n"
          ]
        }
      ]
    },
    {
      "cell_type": "code",
      "source": [
        "a2=np.random.randint(1,10,size=(5,5))\n",
        "print(a2)\n",
        "print(np.partition(a2,3))\n",
        "print(np.partition(a2,3,axis=0))\n",
        "print(np.partition(a2,3,axis=1))"
      ],
      "metadata": {
        "colab": {
          "base_uri": "https://localhost:8080/"
        },
        "id": "BcOJbyhCmwBb",
        "outputId": "8b4978fc-56f9-477d-87fa-78428dfc09eb"
      },
      "execution_count": 37,
      "outputs": [
        {
          "output_type": "stream",
          "name": "stdout",
          "text": [
            "[[9 4 3 8 5]\n",
            " [2 8 4 3 8]\n",
            " [8 2 8 5 9]\n",
            " [2 5 9 3 1]\n",
            " [2 5 2 9 5]]\n",
            "[[4 3 5 8 9]\n",
            " [3 2 4 8 8]\n",
            " [5 8 2 8 9]\n",
            " [1 2 3 5 9]\n",
            " [2 2 5 5 9]]\n",
            "[[2 2 2 3 1]\n",
            " [2 4 3 5 5]\n",
            " [2 5 4 3 5]\n",
            " [8 5 8 8 8]\n",
            " [9 8 9 9 9]]\n",
            "[[4 3 5 8 9]\n",
            " [3 2 4 8 8]\n",
            " [5 8 2 8 9]\n",
            " [1 2 3 5 9]\n",
            " [2 2 5 5 9]]\n"
          ]
        }
      ]
    },
    {
      "cell_type": "markdown",
      "metadata": {
        "id": "77DSA72ML5cI"
      },
      "source": [
        "## 배열 입출력\n"
      ]
    },
    {
      "cell_type": "code",
      "metadata": {
        "id": "da-Mm_gzIs7U",
        "colab": {
          "base_uri": "https://localhost:8080/"
        },
        "outputId": "41142ba9-a570-4f91-d2ea-a698682cf600"
      },
      "source": [
        "a2=np.random.randint(1,10,size=(5,5))\n",
        "print(a2)\n",
        "np.save(\"a\",a2)"
      ],
      "execution_count": 38,
      "outputs": [
        {
          "output_type": "stream",
          "name": "stdout",
          "text": [
            "[[1 6 3 1 8]\n",
            " [8 1 7 6 1]\n",
            " [1 7 8 2 5]\n",
            " [4 6 2 2 3]\n",
            " [2 1 5 8 2]]\n"
          ]
        }
      ]
    },
    {
      "cell_type": "code",
      "metadata": {
        "id": "pFOWyDvAsf11",
        "colab": {
          "base_uri": "https://localhost:8080/"
        },
        "outputId": "f6fbe02c-b516-4e4e-875f-2127b0770444"
      },
      "source": [
        "ls"
      ],
      "execution_count": 39,
      "outputs": [
        {
          "output_type": "stream",
          "name": "stdout",
          "text": [
            "a.npy  \u001b[0m\u001b[01;34msample_data\u001b[0m/\n"
          ]
        }
      ]
    },
    {
      "cell_type": "code",
      "metadata": {
        "id": "Hvb_ilyisoIV",
        "colab": {
          "base_uri": "https://localhost:8080/"
        },
        "outputId": "b8529268-8918-40fd-9543-e86756596a59"
      },
      "source": [
        "b2=np.random.randint(1,10,size=(5,5))\n",
        "print(b2)\n",
        "np.savez(\"ab\",a2,b2)"
      ],
      "execution_count": 40,
      "outputs": [
        {
          "output_type": "stream",
          "name": "stdout",
          "text": [
            "[[2 4 4 9 3]\n",
            " [7 4 1 5 2]\n",
            " [7 3 4 9 8]\n",
            " [3 2 2 7 5]\n",
            " [4 9 3 1 1]]\n"
          ]
        }
      ]
    },
    {
      "cell_type": "code",
      "metadata": {
        "id": "ArWZfL31s1wU",
        "colab": {
          "base_uri": "https://localhost:8080/"
        },
        "outputId": "7d72b362-2ae6-4354-c2bd-ea20eabfc4a5"
      },
      "source": [
        "ls"
      ],
      "execution_count": 41,
      "outputs": [
        {
          "output_type": "stream",
          "name": "stdout",
          "text": [
            "ab.npz  a.npy  \u001b[0m\u001b[01;34msample_data\u001b[0m/\n"
          ]
        }
      ]
    },
    {
      "cell_type": "code",
      "metadata": {
        "id": "che4cEJEs2Tr",
        "colab": {
          "base_uri": "https://localhost:8080/"
        },
        "outputId": "e4c18c2a-2566-4da9-c26b-5e3703ceb0d4"
      },
      "source": [
        "npy=np.load(\"a.npy\")\n",
        "print(npy)"
      ],
      "execution_count": 42,
      "outputs": [
        {
          "output_type": "stream",
          "name": "stdout",
          "text": [
            "[[1 6 3 1 8]\n",
            " [8 1 7 6 1]\n",
            " [1 7 8 2 5]\n",
            " [4 6 2 2 3]\n",
            " [2 1 5 8 2]]\n"
          ]
        }
      ]
    },
    {
      "cell_type": "code",
      "metadata": {
        "id": "X2yIUsYvtMj6",
        "colab": {
          "base_uri": "https://localhost:8080/"
        },
        "outputId": "1d635828-943f-4e84-88a3-9baa9e7f4c2d"
      },
      "source": [
        "npz=np.load(\"ab.npz\")\n",
        "print(npz.files)\n",
        "print(npz['arr_0'])\n",
        "print(npz['arr_1'])\n"
      ],
      "execution_count": 45,
      "outputs": [
        {
          "output_type": "stream",
          "name": "stdout",
          "text": [
            "['arr_0', 'arr_1']\n",
            "[[1 6 3 1 8]\n",
            " [8 1 7 6 1]\n",
            " [1 7 8 2 5]\n",
            " [4 6 2 2 3]\n",
            " [2 1 5 8 2]]\n",
            "[[2 4 4 9 3]\n",
            " [7 4 1 5 2]\n",
            " [7 3 4 9 8]\n",
            " [3 2 2 7 5]\n",
            " [4 9 3 1 1]]\n"
          ]
        }
      ]
    },
    {
      "cell_type": "code",
      "metadata": {
        "id": "Yj5ec-CYtaH1",
        "colab": {
          "base_uri": "https://localhost:8080/"
        },
        "outputId": "d43f500f-e44a-4497-9c50-73e613526863"
      },
      "source": [
        "print(a2)\n",
        "np.savetxt(\"a.csv\",a2,delimiter=',')"
      ],
      "execution_count": 46,
      "outputs": [
        {
          "output_type": "stream",
          "name": "stdout",
          "text": [
            "[[1 6 3 1 8]\n",
            " [8 1 7 6 1]\n",
            " [1 7 8 2 5]\n",
            " [4 6 2 2 3]\n",
            " [2 1 5 8 2]]\n"
          ]
        }
      ]
    },
    {
      "cell_type": "code",
      "metadata": {
        "id": "_NIDrc-VuPmv",
        "colab": {
          "base_uri": "https://localhost:8080/"
        },
        "outputId": "b2e5143e-5c14-4b98-e40e-e06fe02a9eae"
      },
      "source": [
        "ls"
      ],
      "execution_count": 47,
      "outputs": [
        {
          "output_type": "stream",
          "name": "stdout",
          "text": [
            "ab.npz  a.csv  a.npy  \u001b[0m\u001b[01;34msample_data\u001b[0m/\n"
          ]
        }
      ]
    },
    {
      "cell_type": "code",
      "metadata": {
        "id": "bPhmIoVBuQMf",
        "colab": {
          "base_uri": "https://localhost:8080/"
        },
        "outputId": "fe53408e-8a3b-4a3c-d75e-ca0d2a8ce9c3"
      },
      "source": [
        "!cat a.csv"
      ],
      "execution_count": 48,
      "outputs": [
        {
          "output_type": "stream",
          "name": "stdout",
          "text": [
            "1.000000000000000000e+00,6.000000000000000000e+00,3.000000000000000000e+00,1.000000000000000000e+00,8.000000000000000000e+00\n",
            "8.000000000000000000e+00,1.000000000000000000e+00,7.000000000000000000e+00,6.000000000000000000e+00,1.000000000000000000e+00\n",
            "1.000000000000000000e+00,7.000000000000000000e+00,8.000000000000000000e+00,2.000000000000000000e+00,5.000000000000000000e+00\n",
            "4.000000000000000000e+00,6.000000000000000000e+00,2.000000000000000000e+00,2.000000000000000000e+00,3.000000000000000000e+00\n",
            "2.000000000000000000e+00,1.000000000000000000e+00,5.000000000000000000e+00,8.000000000000000000e+00,2.000000000000000000e+00\n"
          ]
        }
      ]
    },
    {
      "cell_type": "code",
      "metadata": {
        "id": "FeB2p4azuTDv",
        "colab": {
          "base_uri": "https://localhost:8080/"
        },
        "outputId": "c1ee0e02-9764-435e-c2a7-b5cf82152c35"
      },
      "source": [
        "csv=np.loadtxt(\"a.csv\",delimiter=',')\n",
        "print(csv)"
      ],
      "execution_count": 49,
      "outputs": [
        {
          "output_type": "stream",
          "name": "stdout",
          "text": [
            "[[1. 6. 3. 1. 8.]\n",
            " [8. 1. 7. 6. 1.]\n",
            " [1. 7. 8. 2. 5.]\n",
            " [4. 6. 2. 2. 3.]\n",
            " [2. 1. 5. 8. 2.]]\n"
          ]
        }
      ]
    },
    {
      "cell_type": "code",
      "metadata": {
        "id": "IUg8Vg4fuxR5",
        "colab": {
          "base_uri": "https://localhost:8080/"
        },
        "outputId": "782c30ea-86e0-4999-8722-0e6a9be5a110"
      },
      "source": [
        "print(b2)\n",
        "np.savetxt(\"b.csv\",b2,delimiter=',',fmt=\"%.2e\",header='c1,c2,c3,c4,c5')"
      ],
      "execution_count": 50,
      "outputs": [
        {
          "output_type": "stream",
          "name": "stdout",
          "text": [
            "[[2 4 4 9 3]\n",
            " [7 4 1 5 2]\n",
            " [7 3 4 9 8]\n",
            " [3 2 2 7 5]\n",
            " [4 9 3 1 1]]\n"
          ]
        }
      ]
    },
    {
      "cell_type": "code",
      "metadata": {
        "id": "lIK5dSv6vtm2",
        "colab": {
          "base_uri": "https://localhost:8080/"
        },
        "outputId": "68709370-bf9c-4cce-caa1-157e27557af4"
      },
      "source": [
        "!cat b.csv"
      ],
      "execution_count": 51,
      "outputs": [
        {
          "output_type": "stream",
          "name": "stdout",
          "text": [
            "# c1,c2,c3,c4,c5\n",
            "2.00e+00,4.00e+00,4.00e+00,9.00e+00,3.00e+00\n",
            "7.00e+00,4.00e+00,1.00e+00,5.00e+00,2.00e+00\n",
            "7.00e+00,3.00e+00,4.00e+00,9.00e+00,8.00e+00\n",
            "3.00e+00,2.00e+00,2.00e+00,7.00e+00,5.00e+00\n",
            "4.00e+00,9.00e+00,3.00e+00,1.00e+00,1.00e+00\n"
          ]
        }
      ]
    },
    {
      "cell_type": "code",
      "metadata": {
        "id": "l4O-gVxdv8-d",
        "colab": {
          "base_uri": "https://localhost:8080/"
        },
        "outputId": "1203a0fc-e8ba-475d-a9f4-a06067a2d535"
      },
      "source": [
        "csv=np.loadtxt(\"b.csv\",delimiter=',')\n",
        "print(csv)"
      ],
      "execution_count": 52,
      "outputs": [
        {
          "output_type": "stream",
          "name": "stdout",
          "text": [
            "[[2. 4. 4. 9. 3.]\n",
            " [7. 4. 1. 5. 2.]\n",
            " [7. 3. 4. 9. 8.]\n",
            " [3. 2. 2. 7. 5.]\n",
            " [4. 9. 3. 1. 1.]]\n"
          ]
        }
      ]
    },
    {
      "cell_type": "markdown",
      "metadata": {
        "id": "JM2Ghx2NGloN"
      },
      "source": [
        "\n",
        "\n",
        "---\n",
        "\n"
      ]
    }
  ]
}